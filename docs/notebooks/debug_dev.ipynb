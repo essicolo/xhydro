{
 "cells": [
  {
   "cell_type": "markdown",
   "id": "0",
   "metadata": {},
   "source": [
    "# *** Notebook stricly used for debugging purposes ***"
   ]
  },
  {
   "cell_type": "code",
   "execution_count": 5,
   "id": "1",
   "metadata": {
    "ExecuteTime": {
     "end_time": "2024-08-05T20:07:20.463431400Z",
     "start_time": "2024-08-05T20:07:19.823705600Z"
    }
   },
   "outputs": [
    {
     "name": "stdout",
     "output_type": "stream",
     "text": [
      "The autoreload extension is already loaded. To reload it, use:\n",
      "  %reload_ext autoreload\n"
     ]
    }
   ],
   "source": [
    "%load_ext autoreload\n",
    "%autoreload 2\n",
    "%reload_ext autoreload\n",
    "from xhydro.extreme_value_analysis.julia_import import Extremes, jl\n",
    "from xhydro.extreme_value_analysis.structures.dataitem import Variable\n",
    "from xhydro.extreme_value_analysis.structures.conversions import py_variable_to_jl_variable\n",
    "\n"
   ]
  },
  {
   "cell_type": "code",
   "execution_count": 2,
   "id": "3",
   "metadata": {
    "ExecuteTime": {
     "end_time": "2024-08-05T19:10:21.692308800Z",
     "start_time": "2024-08-05T19:10:21.496844200Z"
    }
   },
   "outputs": [],
   "source": [
    "year = [1897, 1898, 1899, 1900, 1901, 1903, 1904, 1905, 1906, 1908, 1909, 1912, 1914, 1915, 1916, 1917, 1918, 1919, 1920, 1921, 1922, 1923, 1924, 1925, 1927, 1928, 1929, 1930, 1931, 1932, 1933, 1934, 1935, 1936, 1937, 1938, 1939, 1940, 1941, 1943, 1944, 1945, 1946, 1947, 1948, 1949, 1950, 1951, 1952, 1953, 1954, 1955, 1956, 1957, 1958, 1959, 1960, 1961, 1962, 1963, 1964, 1965, 1966, 1967, 1968, 1969, 1970, 1971, 1972, 1973, 1974, 1975, 1976, 1977, 1978, 1979, 1980, 1981, 1982, 1983, 1984, 1985, 1986, 1987, 1988, 1989]\n",
    "\n",
    "sealevel = [1.58, 1.71, 1.4, 1.34, 1.43, 1.19, 1.55, 1.34, 1.37, 1.46, 1.92, 1.37, 1.19, 1.4, 1.28, 1.52, 1.52, 1.58, 1.49, 1.65, 1.37, 1.49, 1.46, 1.34, 1.74, 1.62, 1.46, 1.71, 1.74, 1.55, 1.43, 1.62, 1.49, 1.58, 1.34, 1.37, 1.62, 1.31, 1.43, 1.49, 1.55, 1.71, 1.49, 1.46, 1.52, 1.58, 1.65, 1.49, 1.52, 1.52, 1.49, 1.62, 1.86, 1.58, 1.62, 1.46, 1.43, 1.46, 1.62, 1.68, 1.83, 1.62, 1.46, 1.58, 1.77, 1.62, 1.71, 1.46, 1.6, 1.5, 1.6, 1.9, 1.7, 1.4, 1.8, 1.37, 1.46, 1.61, 1.43, 1.67, 1.62, 1.57, 1.56, 1.46, 1.7, 1.51]\n",
    "\n",
    "soi = [-0.67, 0.57, 0.16, -0.65, 0.06, 0.47, 0.39, -1.78, 0.2, 0.28, 0.28, -0.97, -0.92, 0.16, 0.62, 2.12, 0.05, -1.09, 0.08, 0.66, 0.33, -0.36, 0.33, -0.24, 0.27, 0.43, 0.46, 0.03, 0.39, -0.68, 0.09, -0.01, 0.14, 0.03, 0.09, 0.86, 0.02, -1.52, -1.44, 0.35, -0.27, 0.42, -0.79, 0.16, -0.24, -0.21, 1.49, -0.69, -0.23, -0.76, 0.23, 0.89, 1.0, -0.45, -0.5, -0.11, 0.28, -0.01, 0.38, -0.32, 0.53, -0.97, -0.53, 0.25, 0.19, -0.66, 0.28, 1.06, -0.88, 0.63, 0.97, 1.32, 0.06, -1.13, -0.3, -0.08, -0.43, 0.06, -1.44, -0.94, -0.14, -0.07, -0.32, -1.47, 0.73, 0.61]"
   ]
  },
  {
   "cell_type": "code",
   "outputs": [
    {
     "data": {
      "text/plain": "Variable(\"\", Real[])"
     },
     "execution_count": 7,
     "metadata": {},
     "output_type": "execute_result"
    }
   ],
   "source": [
    "py_var = Variable(\"\", [])\n",
    "jl_var = py_variable_to_jl_variable(py_var)\n",
    "jl_var"
   ],
   "metadata": {
    "collapsed": false,
    "ExecuteTime": {
     "end_time": "2024-08-05T20:07:26.706166700Z",
     "start_time": "2024-08-05T20:07:26.014442500Z"
    }
   },
   "id": "3d3540f9f65cec94",
   "execution_count": 7
  },
  {
   "cell_type": "code",
   "outputs": [
    {
     "data": {
      "text/plain": "DataType"
     },
     "execution_count": 10,
     "metadata": {},
     "output_type": "execute_result"
    }
   ],
   "source": [
    "jl.typeof(jl.Function)"
   ],
   "metadata": {
    "collapsed": false,
    "ExecuteTime": {
     "end_time": "2024-08-05T20:09:25.839227600Z",
     "start_time": "2024-08-05T20:09:25.199794700Z"
    }
   },
   "id": "c2b08a05d3cc92be",
   "execution_count": 10
  },
  {
   "cell_type": "code",
   "outputs": [
    {
     "data": {
      "text/plain": "<xarray.Dataset> Size: 123kB\nDimensions:      (Station: 117, time: 65)\nCoordinates:\n  * Station      (Station) object 936B '010101' '010802' ... '062802' '062803'\n    source       <U18 72B ...\n    spatial_agg  <U7 28B ...\n  * time         (time) datetime64[ns] 520B 1960-12-31 1961-12-31 ... 2024-12-31\n    timestep     <U1 4B ...\nData variables:\n    t2m_nanmean  (Station, time) float64 61kB dask.array<chunksize=(117, 65), meta=np.ndarray>\n    tp_nansum    (Station, time) float64 61kB dask.array<chunksize=(117, 65), meta=np.ndarray>\nAttributes: (12/30)\n    GRIB_NV:                                  0\n    GRIB_Nx:                                  177\n    GRIB_Ny:                                  93\n    GRIB_cfName:                              unknown\n    GRIB_cfVarName:                           tp\n    GRIB_dataType:                            fc\n    ...                                       ...\n    GRIB_totalNumber:                         0\n    GRIB_typeOfLevel:                         surface\n    GRIB_units:                               m\n    long_name:                                Total precipitation\n    standard_name:                            unknown\n    units:                                    m",
      "text/html": "<div><svg style=\"position: absolute; width: 0; height: 0; overflow: hidden\">\n<defs>\n<symbol id=\"icon-database\" viewBox=\"0 0 32 32\">\n<path d=\"M16 0c-8.837 0-16 2.239-16 5v4c0 2.761 7.163 5 16 5s16-2.239 16-5v-4c0-2.761-7.163-5-16-5z\"></path>\n<path d=\"M16 17c-8.837 0-16-2.239-16-5v6c0 2.761 7.163 5 16 5s16-2.239 16-5v-6c0 2.761-7.163 5-16 5z\"></path>\n<path d=\"M16 26c-8.837 0-16-2.239-16-5v6c0 2.761 7.163 5 16 5s16-2.239 16-5v-6c0 2.761-7.163 5-16 5z\"></path>\n</symbol>\n<symbol id=\"icon-file-text2\" viewBox=\"0 0 32 32\">\n<path d=\"M28.681 7.159c-0.694-0.947-1.662-2.053-2.724-3.116s-2.169-2.030-3.116-2.724c-1.612-1.182-2.393-1.319-2.841-1.319h-15.5c-1.378 0-2.5 1.121-2.5 2.5v27c0 1.378 1.122 2.5 2.5 2.5h23c1.378 0 2.5-1.122 2.5-2.5v-19.5c0-0.448-0.137-1.23-1.319-2.841zM24.543 5.457c0.959 0.959 1.712 1.825 2.268 2.543h-4.811v-4.811c0.718 0.556 1.584 1.309 2.543 2.268zM28 29.5c0 0.271-0.229 0.5-0.5 0.5h-23c-0.271 0-0.5-0.229-0.5-0.5v-27c0-0.271 0.229-0.5 0.5-0.5 0 0 15.499-0 15.5 0v7c0 0.552 0.448 1 1 1h7v19.5z\"></path>\n<path d=\"M23 26h-14c-0.552 0-1-0.448-1-1s0.448-1 1-1h14c0.552 0 1 0.448 1 1s-0.448 1-1 1z\"></path>\n<path d=\"M23 22h-14c-0.552 0-1-0.448-1-1s0.448-1 1-1h14c0.552 0 1 0.448 1 1s-0.448 1-1 1z\"></path>\n<path d=\"M23 18h-14c-0.552 0-1-0.448-1-1s0.448-1 1-1h14c0.552 0 1 0.448 1 1s-0.448 1-1 1z\"></path>\n</symbol>\n</defs>\n</svg>\n<style>/* CSS stylesheet for displaying xarray objects in jupyterlab.\n *\n */\n\n:root {\n  --xr-font-color0: var(--jp-content-font-color0, rgba(0, 0, 0, 1));\n  --xr-font-color2: var(--jp-content-font-color2, rgba(0, 0, 0, 0.54));\n  --xr-font-color3: var(--jp-content-font-color3, rgba(0, 0, 0, 0.38));\n  --xr-border-color: var(--jp-border-color2, #e0e0e0);\n  --xr-disabled-color: var(--jp-layout-color3, #bdbdbd);\n  --xr-background-color: var(--jp-layout-color0, white);\n  --xr-background-color-row-even: var(--jp-layout-color1, white);\n  --xr-background-color-row-odd: var(--jp-layout-color2, #eeeeee);\n}\n\nhtml[theme=dark],\nbody[data-theme=dark],\nbody.vscode-dark {\n  --xr-font-color0: rgba(255, 255, 255, 1);\n  --xr-font-color2: rgba(255, 255, 255, 0.54);\n  --xr-font-color3: rgba(255, 255, 255, 0.38);\n  --xr-border-color: #1F1F1F;\n  --xr-disabled-color: #515151;\n  --xr-background-color: #111111;\n  --xr-background-color-row-even: #111111;\n  --xr-background-color-row-odd: #313131;\n}\n\n.xr-wrap {\n  display: block !important;\n  min-width: 300px;\n  max-width: 700px;\n}\n\n.xr-text-repr-fallback {\n  /* fallback to plain text repr when CSS is not injected (untrusted notebook) */\n  display: none;\n}\n\n.xr-header {\n  padding-top: 6px;\n  padding-bottom: 6px;\n  margin-bottom: 4px;\n  border-bottom: solid 1px var(--xr-border-color);\n}\n\n.xr-header > div,\n.xr-header > ul {\n  display: inline;\n  margin-top: 0;\n  margin-bottom: 0;\n}\n\n.xr-obj-type,\n.xr-array-name {\n  margin-left: 2px;\n  margin-right: 10px;\n}\n\n.xr-obj-type {\n  color: var(--xr-font-color2);\n}\n\n.xr-sections {\n  padding-left: 0 !important;\n  display: grid;\n  grid-template-columns: 150px auto auto 1fr 20px 20px;\n}\n\n.xr-section-item {\n  display: contents;\n}\n\n.xr-section-item input {\n  display: none;\n}\n\n.xr-section-item input + label {\n  color: var(--xr-disabled-color);\n}\n\n.xr-section-item input:enabled + label {\n  cursor: pointer;\n  color: var(--xr-font-color2);\n}\n\n.xr-section-item input:enabled + label:hover {\n  color: var(--xr-font-color0);\n}\n\n.xr-section-summary {\n  grid-column: 1;\n  color: var(--xr-font-color2);\n  font-weight: 500;\n}\n\n.xr-section-summary > span {\n  display: inline-block;\n  padding-left: 0.5em;\n}\n\n.xr-section-summary-in:disabled + label {\n  color: var(--xr-font-color2);\n}\n\n.xr-section-summary-in + label:before {\n  display: inline-block;\n  content: '►';\n  font-size: 11px;\n  width: 15px;\n  text-align: center;\n}\n\n.xr-section-summary-in:disabled + label:before {\n  color: var(--xr-disabled-color);\n}\n\n.xr-section-summary-in:checked + label:before {\n  content: '▼';\n}\n\n.xr-section-summary-in:checked + label > span {\n  display: none;\n}\n\n.xr-section-summary,\n.xr-section-inline-details {\n  padding-top: 4px;\n  padding-bottom: 4px;\n}\n\n.xr-section-inline-details {\n  grid-column: 2 / -1;\n}\n\n.xr-section-details {\n  display: none;\n  grid-column: 1 / -1;\n  margin-bottom: 5px;\n}\n\n.xr-section-summary-in:checked ~ .xr-section-details {\n  display: contents;\n}\n\n.xr-array-wrap {\n  grid-column: 1 / -1;\n  display: grid;\n  grid-template-columns: 20px auto;\n}\n\n.xr-array-wrap > label {\n  grid-column: 1;\n  vertical-align: top;\n}\n\n.xr-preview {\n  color: var(--xr-font-color3);\n}\n\n.xr-array-preview,\n.xr-array-data {\n  padding: 0 5px !important;\n  grid-column: 2;\n}\n\n.xr-array-data,\n.xr-array-in:checked ~ .xr-array-preview {\n  display: none;\n}\n\n.xr-array-in:checked ~ .xr-array-data,\n.xr-array-preview {\n  display: inline-block;\n}\n\n.xr-dim-list {\n  display: inline-block !important;\n  list-style: none;\n  padding: 0 !important;\n  margin: 0;\n}\n\n.xr-dim-list li {\n  display: inline-block;\n  padding: 0;\n  margin: 0;\n}\n\n.xr-dim-list:before {\n  content: '(';\n}\n\n.xr-dim-list:after {\n  content: ')';\n}\n\n.xr-dim-list li:not(:last-child):after {\n  content: ',';\n  padding-right: 5px;\n}\n\n.xr-has-index {\n  font-weight: bold;\n}\n\n.xr-var-list,\n.xr-var-item {\n  display: contents;\n}\n\n.xr-var-item > div,\n.xr-var-item label,\n.xr-var-item > .xr-var-name span {\n  background-color: var(--xr-background-color-row-even);\n  margin-bottom: 0;\n}\n\n.xr-var-item > .xr-var-name:hover span {\n  padding-right: 5px;\n}\n\n.xr-var-list > li:nth-child(odd) > div,\n.xr-var-list > li:nth-child(odd) > label,\n.xr-var-list > li:nth-child(odd) > .xr-var-name span {\n  background-color: var(--xr-background-color-row-odd);\n}\n\n.xr-var-name {\n  grid-column: 1;\n}\n\n.xr-var-dims {\n  grid-column: 2;\n}\n\n.xr-var-dtype {\n  grid-column: 3;\n  text-align: right;\n  color: var(--xr-font-color2);\n}\n\n.xr-var-preview {\n  grid-column: 4;\n}\n\n.xr-index-preview {\n  grid-column: 2 / 5;\n  color: var(--xr-font-color2);\n}\n\n.xr-var-name,\n.xr-var-dims,\n.xr-var-dtype,\n.xr-preview,\n.xr-attrs dt {\n  white-space: nowrap;\n  overflow: hidden;\n  text-overflow: ellipsis;\n  padding-right: 10px;\n}\n\n.xr-var-name:hover,\n.xr-var-dims:hover,\n.xr-var-dtype:hover,\n.xr-attrs dt:hover {\n  overflow: visible;\n  width: auto;\n  z-index: 1;\n}\n\n.xr-var-attrs,\n.xr-var-data,\n.xr-index-data {\n  display: none;\n  background-color: var(--xr-background-color) !important;\n  padding-bottom: 5px !important;\n}\n\n.xr-var-attrs-in:checked ~ .xr-var-attrs,\n.xr-var-data-in:checked ~ .xr-var-data,\n.xr-index-data-in:checked ~ .xr-index-data {\n  display: block;\n}\n\n.xr-var-data > table {\n  float: right;\n}\n\n.xr-var-name span,\n.xr-var-data,\n.xr-index-name div,\n.xr-index-data,\n.xr-attrs {\n  padding-left: 25px !important;\n}\n\n.xr-attrs,\n.xr-var-attrs,\n.xr-var-data,\n.xr-index-data {\n  grid-column: 1 / -1;\n}\n\ndl.xr-attrs {\n  padding: 0;\n  margin: 0;\n  display: grid;\n  grid-template-columns: 125px auto;\n}\n\n.xr-attrs dt,\n.xr-attrs dd {\n  padding: 0;\n  margin: 0;\n  float: left;\n  padding-right: 10px;\n  width: auto;\n}\n\n.xr-attrs dt {\n  font-weight: normal;\n  grid-column: 1;\n}\n\n.xr-attrs dt:hover span {\n  display: inline-block;\n  background: var(--xr-background-color);\n  padding-right: 10px;\n}\n\n.xr-attrs dd {\n  grid-column: 2;\n  white-space: pre-wrap;\n  word-break: break-all;\n}\n\n.xr-icon-database,\n.xr-icon-file-text2,\n.xr-no-icon {\n  display: inline-block;\n  vertical-align: middle;\n  width: 1em;\n  height: 1.5em !important;\n  stroke-width: 0;\n  stroke: currentColor;\n  fill: currentColor;\n}\n</style><pre class='xr-text-repr-fallback'>&lt;xarray.Dataset&gt; Size: 123kB\nDimensions:      (Station: 117, time: 65)\nCoordinates:\n  * Station      (Station) object 936B &#x27;010101&#x27; &#x27;010802&#x27; ... &#x27;062802&#x27; &#x27;062803&#x27;\n    source       &lt;U18 72B ...\n    spatial_agg  &lt;U7 28B ...\n  * time         (time) datetime64[ns] 520B 1960-12-31 1961-12-31 ... 2024-12-31\n    timestep     &lt;U1 4B ...\nData variables:\n    t2m_nanmean  (Station, time) float64 61kB dask.array&lt;chunksize=(117, 65), meta=np.ndarray&gt;\n    tp_nansum    (Station, time) float64 61kB dask.array&lt;chunksize=(117, 65), meta=np.ndarray&gt;\nAttributes: (12/30)\n    GRIB_NV:                                  0\n    GRIB_Nx:                                  177\n    GRIB_Ny:                                  93\n    GRIB_cfName:                              unknown\n    GRIB_cfVarName:                           tp\n    GRIB_dataType:                            fc\n    ...                                       ...\n    GRIB_totalNumber:                         0\n    GRIB_typeOfLevel:                         surface\n    GRIB_units:                               m\n    long_name:                                Total precipitation\n    standard_name:                            unknown\n    units:                                    m</pre><div class='xr-wrap' style='display:none'><div class='xr-header'><div class='xr-obj-type'>xarray.Dataset</div></div><ul class='xr-sections'><li class='xr-section-item'><input id='section-157f33da-c426-40bf-9d16-500af5779e48' class='xr-section-summary-in' type='checkbox' disabled ><label for='section-157f33da-c426-40bf-9d16-500af5779e48' class='xr-section-summary'  title='Expand/collapse section'>Dimensions:</label><div class='xr-section-inline-details'><ul class='xr-dim-list'><li><span class='xr-has-index'>Station</span>: 117</li><li><span class='xr-has-index'>time</span>: 65</li></ul></div><div class='xr-section-details'></div></li><li class='xr-section-item'><input id='section-a46920bd-304c-4242-ad4b-465a5c6dbb51' class='xr-section-summary-in' type='checkbox'  checked><label for='section-a46920bd-304c-4242-ad4b-465a5c6dbb51' class='xr-section-summary' >Coordinates: <span>(5)</span></label><div class='xr-section-inline-details'></div><div class='xr-section-details'><ul class='xr-var-list'><li class='xr-var-item'><div class='xr-var-name'><span class='xr-has-index'>Station</span></div><div class='xr-var-dims'>(Station)</div><div class='xr-var-dtype'>object</div><div class='xr-var-preview xr-preview'>&#x27;010101&#x27; &#x27;010802&#x27; ... &#x27;062803&#x27;</div><input id='attrs-0c8d19c3-4cfe-4d11-bb24-bb676c2cf43a' class='xr-var-attrs-in' type='checkbox' ><label for='attrs-0c8d19c3-4cfe-4d11-bb24-bb676c2cf43a' title='Show/Hide attributes'><svg class='icon xr-icon-file-text2'><use xlink:href='#icon-file-text2'></use></svg></label><input id='data-b18629a7-1ce5-46eb-bbba-abbe30dcb660' class='xr-var-data-in' type='checkbox'><label for='data-b18629a7-1ce5-46eb-bbba-abbe30dcb660' title='Show/Hide data repr'><svg class='icon xr-icon-database'><use xlink:href='#icon-database'></use></svg></label><div class='xr-var-attrs'><dl class='xr-attrs'><dt><span>cf_role :</span></dt><dd>timeseries_id</dd></dl></div><div class='xr-var-data'><pre>array([&#x27;010101&#x27;, &#x27;010802&#x27;, &#x27;010902&#x27;, &#x27;011003&#x27;, &#x27;011201&#x27;, &#x27;011204&#x27;, &#x27;011507&#x27;,\n       &#x27;011508&#x27;, &#x27;011509&#x27;, &#x27;020302&#x27;, &#x27;020404&#x27;, &#x27;020502&#x27;, &#x27;020602&#x27;, &#x27;020802&#x27;,\n       &#x27;021407&#x27;, &#x27;021502&#x27;, &#x27;021915&#x27;, &#x27;021916&#x27;, &#x27;022507&#x27;, &#x27;022601&#x27;, &#x27;022704&#x27;,\n       &#x27;023002&#x27;, &#x27;023004&#x27;, &#x27;023303&#x27;, &#x27;023401&#x27;, &#x27;023422&#x27;, &#x27;023428&#x27;, &#x27;023432&#x27;,\n       &#x27;023701&#x27;, &#x27;023702&#x27;, &#x27;024003&#x27;, &#x27;024007&#x27;, &#x27;024010&#x27;, &#x27;024013&#x27;, &#x27;024014&#x27;,\n       &#x27;024015&#x27;, &#x27;030103&#x27;, &#x27;030234&#x27;, &#x27;030242&#x27;, &#x27;030246&#x27;, &#x27;030262&#x27;, &#x27;030282&#x27;,\n       &#x27;030315&#x27;, &#x27;030316&#x27;, &#x27;030339&#x27;, &#x27;030415&#x27;, &#x27;030420&#x27;, &#x27;030421&#x27;, &#x27;030423&#x27;,\n       &#x27;030424&#x27;, &#x27;030425&#x27;, &#x27;030426&#x27;, &#x27;030429&#x27;, &#x27;030907&#x27;, &#x27;030920&#x27;, &#x27;030921&#x27;,\n       &#x27;040129&#x27;, &#x27;040212&#x27;, &#x27;040409&#x27;, &#x27;040810&#x27;, &#x27;040814&#x27;, &#x27;040830&#x27;, &#x27;040840&#x27;,\n       &#x27;040841&#x27;, &#x27;041902&#x27;, &#x27;041903&#x27;, &#x27;042103&#x27;, &#x27;042607&#x27;, &#x27;043012&#x27;, &#x27;043030&#x27;,\n       &#x27;050117&#x27;, &#x27;050119&#x27;, &#x27;050135&#x27;, &#x27;050304&#x27;, &#x27;050409&#x27;, &#x27;050501&#x27;, &#x27;050701&#x27;,\n       &#x27;050702&#x27;, &#x27;050812&#x27;, &#x27;050813&#x27;, &#x27;050915&#x27;, &#x27;050916&#x27;, &#x27;051002&#x27;, &#x27;051003&#x27;,\n       &#x27;051004&#x27;, &#x27;051005&#x27;, &#x27;051007&#x27;, &#x27;051301&#x27;, &#x27;052228&#x27;, &#x27;052229&#x27;, &#x27;052231&#x27;,\n       &#x27;052233&#x27;, &#x27;052235&#x27;, &#x27;054001&#x27;, &#x27;060101&#x27;, &#x27;060102&#x27;, &#x27;060601&#x27;, &#x27;060704&#x27;,\n       &#x27;060901&#x27;, &#x27;061020&#x27;, &#x27;061022&#x27;, &#x27;061024&#x27;, &#x27;061028&#x27;, &#x27;061307&#x27;, &#x27;061502&#x27;,\n       &#x27;061801&#x27;, &#x27;061901&#x27;, &#x27;061905&#x27;, &#x27;061906&#x27;, &#x27;061909&#x27;, &#x27;062002&#x27;, &#x27;062101&#x27;,\n       &#x27;062102&#x27;, &#x27;062114&#x27;, &#x27;062701&#x27;, &#x27;062802&#x27;, &#x27;062803&#x27;], dtype=object)</pre></div></li><li class='xr-var-item'><div class='xr-var-name'><span>source</span></div><div class='xr-var-dims'>()</div><div class='xr-var-dtype'>&lt;U18</div><div class='xr-var-preview xr-preview'>...</div><input id='attrs-af3b8e09-debe-4b8a-890f-38aa24c3d3bd' class='xr-var-attrs-in' type='checkbox' disabled><label for='attrs-af3b8e09-debe-4b8a-890f-38aa24c3d3bd' title='Show/Hide attributes'><svg class='icon xr-icon-file-text2'><use xlink:href='#icon-file-text2'></use></svg></label><input id='data-90016efd-e5cc-4f82-9871-4e29c7094ca8' class='xr-var-data-in' type='checkbox'><label for='data-90016efd-e5cc-4f82-9871-4e29c7094ca8' title='Show/Hide data repr'><svg class='icon xr-icon-database'><use xlink:href='#icon-database'></use></svg></label><div class='xr-var-attrs'><dl class='xr-attrs'></dl></div><div class='xr-var-data'><pre>[1 values with dtype=&lt;U18]</pre></div></li><li class='xr-var-item'><div class='xr-var-name'><span>spatial_agg</span></div><div class='xr-var-dims'>()</div><div class='xr-var-dtype'>&lt;U7</div><div class='xr-var-preview xr-preview'>...</div><input id='attrs-71d7d093-8467-4fd2-92e8-e3ad6c342f07' class='xr-var-attrs-in' type='checkbox' disabled><label for='attrs-71d7d093-8467-4fd2-92e8-e3ad6c342f07' title='Show/Hide attributes'><svg class='icon xr-icon-file-text2'><use xlink:href='#icon-file-text2'></use></svg></label><input id='data-8ca043bd-77b9-401f-a69f-b787c3e2726d' class='xr-var-data-in' type='checkbox'><label for='data-8ca043bd-77b9-401f-a69f-b787c3e2726d' title='Show/Hide data repr'><svg class='icon xr-icon-database'><use xlink:href='#icon-database'></use></svg></label><div class='xr-var-attrs'><dl class='xr-attrs'></dl></div><div class='xr-var-data'><pre>[1 values with dtype=&lt;U7]</pre></div></li><li class='xr-var-item'><div class='xr-var-name'><span class='xr-has-index'>time</span></div><div class='xr-var-dims'>(time)</div><div class='xr-var-dtype'>datetime64[ns]</div><div class='xr-var-preview xr-preview'>1960-12-31 ... 2024-12-31</div><input id='attrs-027631e5-4836-4726-afbf-b075ba41b460' class='xr-var-attrs-in' type='checkbox' disabled><label for='attrs-027631e5-4836-4726-afbf-b075ba41b460' title='Show/Hide attributes'><svg class='icon xr-icon-file-text2'><use xlink:href='#icon-file-text2'></use></svg></label><input id='data-cbe4d194-6699-4bae-8765-58b107fb79e8' class='xr-var-data-in' type='checkbox'><label for='data-cbe4d194-6699-4bae-8765-58b107fb79e8' title='Show/Hide data repr'><svg class='icon xr-icon-database'><use xlink:href='#icon-database'></use></svg></label><div class='xr-var-attrs'><dl class='xr-attrs'></dl></div><div class='xr-var-data'><pre>array([&#x27;1960-12-31T00:00:00.000000000&#x27;, &#x27;1961-12-31T00:00:00.000000000&#x27;,\n       &#x27;1962-12-31T00:00:00.000000000&#x27;, &#x27;1963-12-31T00:00:00.000000000&#x27;,\n       &#x27;1964-12-31T00:00:00.000000000&#x27;, &#x27;1965-12-31T00:00:00.000000000&#x27;,\n       &#x27;1966-12-31T00:00:00.000000000&#x27;, &#x27;1967-12-31T00:00:00.000000000&#x27;,\n       &#x27;1968-12-31T00:00:00.000000000&#x27;, &#x27;1969-12-31T00:00:00.000000000&#x27;,\n       &#x27;1970-12-31T00:00:00.000000000&#x27;, &#x27;1971-12-31T00:00:00.000000000&#x27;,\n       &#x27;1972-12-31T00:00:00.000000000&#x27;, &#x27;1973-12-31T00:00:00.000000000&#x27;,\n       &#x27;1974-12-31T00:00:00.000000000&#x27;, &#x27;1975-12-31T00:00:00.000000000&#x27;,\n       &#x27;1976-12-31T00:00:00.000000000&#x27;, &#x27;1977-12-31T00:00:00.000000000&#x27;,\n       &#x27;1978-12-31T00:00:00.000000000&#x27;, &#x27;1979-12-31T00:00:00.000000000&#x27;,\n       &#x27;1980-12-31T00:00:00.000000000&#x27;, &#x27;1981-12-31T00:00:00.000000000&#x27;,\n       &#x27;1982-12-31T00:00:00.000000000&#x27;, &#x27;1983-12-31T00:00:00.000000000&#x27;,\n       &#x27;1984-12-31T00:00:00.000000000&#x27;, &#x27;1985-12-31T00:00:00.000000000&#x27;,\n       &#x27;1986-12-31T00:00:00.000000000&#x27;, &#x27;1987-12-31T00:00:00.000000000&#x27;,\n       &#x27;1988-12-31T00:00:00.000000000&#x27;, &#x27;1989-12-31T00:00:00.000000000&#x27;,\n       &#x27;1990-12-31T00:00:00.000000000&#x27;, &#x27;1991-12-31T00:00:00.000000000&#x27;,\n       &#x27;1992-12-31T00:00:00.000000000&#x27;, &#x27;1993-12-31T00:00:00.000000000&#x27;,\n       &#x27;1994-12-31T00:00:00.000000000&#x27;, &#x27;1995-12-31T00:00:00.000000000&#x27;,\n       &#x27;1996-12-31T00:00:00.000000000&#x27;, &#x27;1997-12-31T00:00:00.000000000&#x27;,\n       &#x27;1998-12-31T00:00:00.000000000&#x27;, &#x27;1999-12-31T00:00:00.000000000&#x27;,\n       &#x27;2000-12-31T00:00:00.000000000&#x27;, &#x27;2001-12-31T00:00:00.000000000&#x27;,\n       &#x27;2002-12-31T00:00:00.000000000&#x27;, &#x27;2003-12-31T00:00:00.000000000&#x27;,\n       &#x27;2004-12-31T00:00:00.000000000&#x27;, &#x27;2005-12-31T00:00:00.000000000&#x27;,\n       &#x27;2006-12-31T00:00:00.000000000&#x27;, &#x27;2007-12-31T00:00:00.000000000&#x27;,\n       &#x27;2008-12-31T00:00:00.000000000&#x27;, &#x27;2009-12-31T00:00:00.000000000&#x27;,\n       &#x27;2010-12-31T00:00:00.000000000&#x27;, &#x27;2011-12-31T00:00:00.000000000&#x27;,\n       &#x27;2012-12-31T00:00:00.000000000&#x27;, &#x27;2013-12-31T00:00:00.000000000&#x27;,\n       &#x27;2014-12-31T00:00:00.000000000&#x27;, &#x27;2015-12-31T00:00:00.000000000&#x27;,\n       &#x27;2016-12-31T00:00:00.000000000&#x27;, &#x27;2017-12-31T00:00:00.000000000&#x27;,\n       &#x27;2018-12-31T00:00:00.000000000&#x27;, &#x27;2019-12-31T00:00:00.000000000&#x27;,\n       &#x27;2020-12-31T00:00:00.000000000&#x27;, &#x27;2021-12-31T00:00:00.000000000&#x27;,\n       &#x27;2022-12-31T00:00:00.000000000&#x27;, &#x27;2023-12-31T00:00:00.000000000&#x27;,\n       &#x27;2024-12-31T00:00:00.000000000&#x27;], dtype=&#x27;datetime64[ns]&#x27;)</pre></div></li><li class='xr-var-item'><div class='xr-var-name'><span>timestep</span></div><div class='xr-var-dims'>()</div><div class='xr-var-dtype'>&lt;U1</div><div class='xr-var-preview xr-preview'>...</div><input id='attrs-3b4eed43-9d1a-4637-923b-49ad72b847d2' class='xr-var-attrs-in' type='checkbox' disabled><label for='attrs-3b4eed43-9d1a-4637-923b-49ad72b847d2' title='Show/Hide attributes'><svg class='icon xr-icon-file-text2'><use xlink:href='#icon-file-text2'></use></svg></label><input id='data-d65ed451-455f-4ecb-91db-31ccdcf2f51d' class='xr-var-data-in' type='checkbox'><label for='data-d65ed451-455f-4ecb-91db-31ccdcf2f51d' title='Show/Hide data repr'><svg class='icon xr-icon-database'><use xlink:href='#icon-database'></use></svg></label><div class='xr-var-attrs'><dl class='xr-attrs'></dl></div><div class='xr-var-data'><pre>[1 values with dtype=&lt;U1]</pre></div></li></ul></div></li><li class='xr-section-item'><input id='section-a973b881-4f18-4de8-8c80-e8290985f33b' class='xr-section-summary-in' type='checkbox'  checked><label for='section-a973b881-4f18-4de8-8c80-e8290985f33b' class='xr-section-summary' >Data variables: <span>(2)</span></label><div class='xr-section-inline-details'></div><div class='xr-section-details'><ul class='xr-var-list'><li class='xr-var-item'><div class='xr-var-name'><span>t2m_nanmean</span></div><div class='xr-var-dims'>(Station, time)</div><div class='xr-var-dtype'>float64</div><div class='xr-var-preview xr-preview'>dask.array&lt;chunksize=(117, 65), meta=np.ndarray&gt;</div><input id='attrs-94334b16-3e79-4bd8-a2bc-1bcbe30de62c' class='xr-var-attrs-in' type='checkbox' ><label for='attrs-94334b16-3e79-4bd8-a2bc-1bcbe30de62c' title='Show/Hide attributes'><svg class='icon xr-icon-file-text2'><use xlink:href='#icon-file-text2'></use></svg></label><input id='data-950fdfe8-eaff-4f49-a4a2-72e620c744ec' class='xr-var-data-in' type='checkbox'><label for='data-950fdfe8-eaff-4f49-a4a2-72e620c744ec' title='Show/Hide data repr'><svg class='icon xr-icon-database'><use xlink:href='#icon-database'></use></svg></label><div class='xr-var-attrs'><dl class='xr-attrs'><dt><span>GRIB_NV :</span></dt><dd>0</dd><dt><span>GRIB_Nx :</span></dt><dd>177</dd><dt><span>GRIB_Ny :</span></dt><dd>93</dd><dt><span>GRIB_cfName :</span></dt><dd>unknown</dd><dt><span>GRIB_cfVarName :</span></dt><dd>t2m</dd><dt><span>GRIB_dataType :</span></dt><dd>an</dd><dt><span>GRIB_gridDefinitionDescription :</span></dt><dd>Latitude/Longitude Grid</dd><dt><span>GRIB_gridType :</span></dt><dd>regular_ll</dd><dt><span>GRIB_iDirectionIncrementInDegrees :</span></dt><dd>0.25</dd><dt><span>GRIB_iScansNegatively :</span></dt><dd>0</dd><dt><span>GRIB_jDirectionIncrementInDegrees :</span></dt><dd>0.25</dd><dt><span>GRIB_jPointsAreConsecutive :</span></dt><dd>0</dd><dt><span>GRIB_jScansPositively :</span></dt><dd>0</dd><dt><span>GRIB_latitudeOfFirstGridPointInDegrees :</span></dt><dd>63.0</dd><dt><span>GRIB_latitudeOfLastGridPointInDegrees :</span></dt><dd>40.0</dd><dt><span>GRIB_longitudeOfFirstGridPointInDegrees :</span></dt><dd>-96.0</dd><dt><span>GRIB_longitudeOfLastGridPointInDegrees :</span></dt><dd>-52.0</dd><dt><span>GRIB_missingValue :</span></dt><dd>9999</dd><dt><span>GRIB_name :</span></dt><dd>2 metre temperature</dd><dt><span>GRIB_numberOfPoints :</span></dt><dd>16461</dd><dt><span>GRIB_paramId :</span></dt><dd>167</dd><dt><span>GRIB_shortName :</span></dt><dd>2t</dd><dt><span>GRIB_stepType :</span></dt><dd>instant</dd><dt><span>GRIB_stepUnits :</span></dt><dd>1</dd><dt><span>GRIB_totalNumber :</span></dt><dd>0</dd><dt><span>GRIB_typeOfLevel :</span></dt><dd>surface</dd><dt><span>GRIB_units :</span></dt><dd>K</dd><dt><span>long_name :</span></dt><dd>2 metre temperature</dd><dt><span>standard_name :</span></dt><dd>unknown</dd><dt><span>units :</span></dt><dd>K</dd></dl></div><div class='xr-var-data'><table>\n    <tr>\n        <td>\n            <table style=\"border-collapse: collapse;\">\n                <thead>\n                    <tr>\n                        <td> </td>\n                        <th> Array </th>\n                        <th> Chunk </th>\n                    </tr>\n                </thead>\n                <tbody>\n                    \n                    <tr>\n                        <th> Bytes </th>\n                        <td> 59.41 kiB </td>\n                        <td> 59.41 kiB </td>\n                    </tr>\n                    \n                    <tr>\n                        <th> Shape </th>\n                        <td> (117, 65) </td>\n                        <td> (117, 65) </td>\n                    </tr>\n                    <tr>\n                        <th> Dask graph </th>\n                        <td colspan=\"2\"> 1 chunks in 2 graph layers </td>\n                    </tr>\n                    <tr>\n                        <th> Data type </th>\n                        <td colspan=\"2\"> float64 numpy.ndarray </td>\n                    </tr>\n                </tbody>\n            </table>\n        </td>\n        <td>\n        <svg width=\"116\" height=\"170\" style=\"stroke:rgb(0,0,0);stroke-width:1\" >\n\n  <!-- Horizontal lines -->\n  <line x1=\"0\" y1=\"0\" x2=\"66\" y2=\"0\" style=\"stroke-width:2\" />\n  <line x1=\"0\" y1=\"120\" x2=\"66\" y2=\"120\" style=\"stroke-width:2\" />\n\n  <!-- Vertical lines -->\n  <line x1=\"0\" y1=\"0\" x2=\"0\" y2=\"120\" style=\"stroke-width:2\" />\n  <line x1=\"66\" y1=\"0\" x2=\"66\" y2=\"120\" style=\"stroke-width:2\" />\n\n  <!-- Colored Rectangle -->\n  <polygon points=\"0.0,0.0 66.66666666666667,0.0 66.66666666666667,120.0 0.0,120.0\" style=\"fill:#ECB172A0;stroke-width:0\"/>\n\n  <!-- Text -->\n  <text x=\"33.333333\" y=\"140.000000\" font-size=\"1.0rem\" font-weight=\"100\" text-anchor=\"middle\" >65</text>\n  <text x=\"86.666667\" y=\"60.000000\" font-size=\"1.0rem\" font-weight=\"100\" text-anchor=\"middle\" transform=\"rotate(-90,86.666667,60.000000)\">117</text>\n</svg>\n        </td>\n    </tr>\n</table></div></li><li class='xr-var-item'><div class='xr-var-name'><span>tp_nansum</span></div><div class='xr-var-dims'>(Station, time)</div><div class='xr-var-dtype'>float64</div><div class='xr-var-preview xr-preview'>dask.array&lt;chunksize=(117, 65), meta=np.ndarray&gt;</div><input id='attrs-e2eb6e49-1537-431e-b7fc-34a6d8fcd601' class='xr-var-attrs-in' type='checkbox' ><label for='attrs-e2eb6e49-1537-431e-b7fc-34a6d8fcd601' title='Show/Hide attributes'><svg class='icon xr-icon-file-text2'><use xlink:href='#icon-file-text2'></use></svg></label><input id='data-28fbf29c-7fd8-4ab5-8558-746c1bc2639d' class='xr-var-data-in' type='checkbox'><label for='data-28fbf29c-7fd8-4ab5-8558-746c1bc2639d' title='Show/Hide data repr'><svg class='icon xr-icon-database'><use xlink:href='#icon-database'></use></svg></label><div class='xr-var-attrs'><dl class='xr-attrs'><dt><span>GRIB_NV :</span></dt><dd>0</dd><dt><span>GRIB_Nx :</span></dt><dd>177</dd><dt><span>GRIB_Ny :</span></dt><dd>93</dd><dt><span>GRIB_cfName :</span></dt><dd>unknown</dd><dt><span>GRIB_cfVarName :</span></dt><dd>tp</dd><dt><span>GRIB_dataType :</span></dt><dd>fc</dd><dt><span>GRIB_gridDefinitionDescription :</span></dt><dd>Latitude/Longitude Grid</dd><dt><span>GRIB_gridType :</span></dt><dd>regular_ll</dd><dt><span>GRIB_iDirectionIncrementInDegrees :</span></dt><dd>0.25</dd><dt><span>GRIB_iScansNegatively :</span></dt><dd>0</dd><dt><span>GRIB_jDirectionIncrementInDegrees :</span></dt><dd>0.25</dd><dt><span>GRIB_jPointsAreConsecutive :</span></dt><dd>0</dd><dt><span>GRIB_jScansPositively :</span></dt><dd>0</dd><dt><span>GRIB_latitudeOfFirstGridPointInDegrees :</span></dt><dd>63.0</dd><dt><span>GRIB_latitudeOfLastGridPointInDegrees :</span></dt><dd>40.0</dd><dt><span>GRIB_longitudeOfFirstGridPointInDegrees :</span></dt><dd>-96.0</dd><dt><span>GRIB_longitudeOfLastGridPointInDegrees :</span></dt><dd>-52.0</dd><dt><span>GRIB_missingValue :</span></dt><dd>9999</dd><dt><span>GRIB_name :</span></dt><dd>Total precipitation</dd><dt><span>GRIB_numberOfPoints :</span></dt><dd>16461</dd><dt><span>GRIB_paramId :</span></dt><dd>228</dd><dt><span>GRIB_shortName :</span></dt><dd>tp</dd><dt><span>GRIB_stepType :</span></dt><dd>accum</dd><dt><span>GRIB_stepUnits :</span></dt><dd>1</dd><dt><span>GRIB_totalNumber :</span></dt><dd>0</dd><dt><span>GRIB_typeOfLevel :</span></dt><dd>surface</dd><dt><span>GRIB_units :</span></dt><dd>m</dd><dt><span>long_name :</span></dt><dd>Total precipitation</dd><dt><span>standard_name :</span></dt><dd>unknown</dd><dt><span>units :</span></dt><dd>m</dd></dl></div><div class='xr-var-data'><table>\n    <tr>\n        <td>\n            <table style=\"border-collapse: collapse;\">\n                <thead>\n                    <tr>\n                        <td> </td>\n                        <th> Array </th>\n                        <th> Chunk </th>\n                    </tr>\n                </thead>\n                <tbody>\n                    \n                    <tr>\n                        <th> Bytes </th>\n                        <td> 59.41 kiB </td>\n                        <td> 59.41 kiB </td>\n                    </tr>\n                    \n                    <tr>\n                        <th> Shape </th>\n                        <td> (117, 65) </td>\n                        <td> (117, 65) </td>\n                    </tr>\n                    <tr>\n                        <th> Dask graph </th>\n                        <td colspan=\"2\"> 1 chunks in 2 graph layers </td>\n                    </tr>\n                    <tr>\n                        <th> Data type </th>\n                        <td colspan=\"2\"> float64 numpy.ndarray </td>\n                    </tr>\n                </tbody>\n            </table>\n        </td>\n        <td>\n        <svg width=\"116\" height=\"170\" style=\"stroke:rgb(0,0,0);stroke-width:1\" >\n\n  <!-- Horizontal lines -->\n  <line x1=\"0\" y1=\"0\" x2=\"66\" y2=\"0\" style=\"stroke-width:2\" />\n  <line x1=\"0\" y1=\"120\" x2=\"66\" y2=\"120\" style=\"stroke-width:2\" />\n\n  <!-- Vertical lines -->\n  <line x1=\"0\" y1=\"0\" x2=\"0\" y2=\"120\" style=\"stroke-width:2\" />\n  <line x1=\"66\" y1=\"0\" x2=\"66\" y2=\"120\" style=\"stroke-width:2\" />\n\n  <!-- Colored Rectangle -->\n  <polygon points=\"0.0,0.0 66.66666666666667,0.0 66.66666666666667,120.0 0.0,120.0\" style=\"fill:#ECB172A0;stroke-width:0\"/>\n\n  <!-- Text -->\n  <text x=\"33.333333\" y=\"140.000000\" font-size=\"1.0rem\" font-weight=\"100\" text-anchor=\"middle\" >65</text>\n  <text x=\"86.666667\" y=\"60.000000\" font-size=\"1.0rem\" font-weight=\"100\" text-anchor=\"middle\" transform=\"rotate(-90,86.666667,60.000000)\">117</text>\n</svg>\n        </td>\n    </tr>\n</table></div></li></ul></div></li><li class='xr-section-item'><input id='section-f75e2e17-b145-42c0-a6e3-0ce96d1c15a6' class='xr-section-summary-in' type='checkbox'  ><label for='section-f75e2e17-b145-42c0-a6e3-0ce96d1c15a6' class='xr-section-summary' >Indexes: <span>(2)</span></label><div class='xr-section-inline-details'></div><div class='xr-section-details'><ul class='xr-var-list'><li class='xr-var-item'><div class='xr-index-name'><div>Station</div></div><div class='xr-index-preview'>PandasIndex</div><div></div><input id='index-12c287f6-807c-4234-9b78-d8aa745da8ac' class='xr-index-data-in' type='checkbox'/><label for='index-12c287f6-807c-4234-9b78-d8aa745da8ac' title='Show/Hide index repr'><svg class='icon xr-icon-database'><use xlink:href='#icon-database'></use></svg></label><div class='xr-index-data'><pre>PandasIndex(Index([&#x27;010101&#x27;, &#x27;010802&#x27;, &#x27;010902&#x27;, &#x27;011003&#x27;, &#x27;011201&#x27;, &#x27;011204&#x27;, &#x27;011507&#x27;,\n       &#x27;011508&#x27;, &#x27;011509&#x27;, &#x27;020302&#x27;,\n       ...\n       &#x27;061905&#x27;, &#x27;061906&#x27;, &#x27;061909&#x27;, &#x27;062002&#x27;, &#x27;062101&#x27;, &#x27;062102&#x27;, &#x27;062114&#x27;,\n       &#x27;062701&#x27;, &#x27;062802&#x27;, &#x27;062803&#x27;],\n      dtype=&#x27;object&#x27;, name=&#x27;Station&#x27;, length=117))</pre></div></li><li class='xr-var-item'><div class='xr-index-name'><div>time</div></div><div class='xr-index-preview'>PandasIndex</div><div></div><input id='index-d2aa094c-086a-4d4c-b727-f031f899bda9' class='xr-index-data-in' type='checkbox'/><label for='index-d2aa094c-086a-4d4c-b727-f031f899bda9' title='Show/Hide index repr'><svg class='icon xr-icon-database'><use xlink:href='#icon-database'></use></svg></label><div class='xr-index-data'><pre>PandasIndex(DatetimeIndex([&#x27;1960-12-31&#x27;, &#x27;1961-12-31&#x27;, &#x27;1962-12-31&#x27;, &#x27;1963-12-31&#x27;,\n               &#x27;1964-12-31&#x27;, &#x27;1965-12-31&#x27;, &#x27;1966-12-31&#x27;, &#x27;1967-12-31&#x27;,\n               &#x27;1968-12-31&#x27;, &#x27;1969-12-31&#x27;, &#x27;1970-12-31&#x27;, &#x27;1971-12-31&#x27;,\n               &#x27;1972-12-31&#x27;, &#x27;1973-12-31&#x27;, &#x27;1974-12-31&#x27;, &#x27;1975-12-31&#x27;,\n               &#x27;1976-12-31&#x27;, &#x27;1977-12-31&#x27;, &#x27;1978-12-31&#x27;, &#x27;1979-12-31&#x27;,\n               &#x27;1980-12-31&#x27;, &#x27;1981-12-31&#x27;, &#x27;1982-12-31&#x27;, &#x27;1983-12-31&#x27;,\n               &#x27;1984-12-31&#x27;, &#x27;1985-12-31&#x27;, &#x27;1986-12-31&#x27;, &#x27;1987-12-31&#x27;,\n               &#x27;1988-12-31&#x27;, &#x27;1989-12-31&#x27;, &#x27;1990-12-31&#x27;, &#x27;1991-12-31&#x27;,\n               &#x27;1992-12-31&#x27;, &#x27;1993-12-31&#x27;, &#x27;1994-12-31&#x27;, &#x27;1995-12-31&#x27;,\n               &#x27;1996-12-31&#x27;, &#x27;1997-12-31&#x27;, &#x27;1998-12-31&#x27;, &#x27;1999-12-31&#x27;,\n               &#x27;2000-12-31&#x27;, &#x27;2001-12-31&#x27;, &#x27;2002-12-31&#x27;, &#x27;2003-12-31&#x27;,\n               &#x27;2004-12-31&#x27;, &#x27;2005-12-31&#x27;, &#x27;2006-12-31&#x27;, &#x27;2007-12-31&#x27;,\n               &#x27;2008-12-31&#x27;, &#x27;2009-12-31&#x27;, &#x27;2010-12-31&#x27;, &#x27;2011-12-31&#x27;,\n               &#x27;2012-12-31&#x27;, &#x27;2013-12-31&#x27;, &#x27;2014-12-31&#x27;, &#x27;2015-12-31&#x27;,\n               &#x27;2016-12-31&#x27;, &#x27;2017-12-31&#x27;, &#x27;2018-12-31&#x27;, &#x27;2019-12-31&#x27;,\n               &#x27;2020-12-31&#x27;, &#x27;2021-12-31&#x27;, &#x27;2022-12-31&#x27;, &#x27;2023-12-31&#x27;,\n               &#x27;2024-12-31&#x27;],\n              dtype=&#x27;datetime64[ns]&#x27;, name=&#x27;time&#x27;, freq=None))</pre></div></li></ul></div></li><li class='xr-section-item'><input id='section-57778e44-4dc6-48c8-85e6-f1d0af876e6b' class='xr-section-summary-in' type='checkbox'  ><label for='section-57778e44-4dc6-48c8-85e6-f1d0af876e6b' class='xr-section-summary' >Attributes: <span>(30)</span></label><div class='xr-section-inline-details'></div><div class='xr-section-details'><dl class='xr-attrs'><dt><span>GRIB_NV :</span></dt><dd>0</dd><dt><span>GRIB_Nx :</span></dt><dd>177</dd><dt><span>GRIB_Ny :</span></dt><dd>93</dd><dt><span>GRIB_cfName :</span></dt><dd>unknown</dd><dt><span>GRIB_cfVarName :</span></dt><dd>tp</dd><dt><span>GRIB_dataType :</span></dt><dd>fc</dd><dt><span>GRIB_gridDefinitionDescription :</span></dt><dd>Latitude/Longitude Grid</dd><dt><span>GRIB_gridType :</span></dt><dd>regular_ll</dd><dt><span>GRIB_iDirectionIncrementInDegrees :</span></dt><dd>0.25</dd><dt><span>GRIB_iScansNegatively :</span></dt><dd>0</dd><dt><span>GRIB_jDirectionIncrementInDegrees :</span></dt><dd>0.25</dd><dt><span>GRIB_jPointsAreConsecutive :</span></dt><dd>0</dd><dt><span>GRIB_jScansPositively :</span></dt><dd>0</dd><dt><span>GRIB_latitudeOfFirstGridPointInDegrees :</span></dt><dd>63.0</dd><dt><span>GRIB_latitudeOfLastGridPointInDegrees :</span></dt><dd>40.0</dd><dt><span>GRIB_longitudeOfFirstGridPointInDegrees :</span></dt><dd>-96.0</dd><dt><span>GRIB_longitudeOfLastGridPointInDegrees :</span></dt><dd>-52.0</dd><dt><span>GRIB_missingValue :</span></dt><dd>9999</dd><dt><span>GRIB_name :</span></dt><dd>Total precipitation</dd><dt><span>GRIB_numberOfPoints :</span></dt><dd>16461</dd><dt><span>GRIB_paramId :</span></dt><dd>228</dd><dt><span>GRIB_shortName :</span></dt><dd>tp</dd><dt><span>GRIB_stepType :</span></dt><dd>accum</dd><dt><span>GRIB_stepUnits :</span></dt><dd>1</dd><dt><span>GRIB_totalNumber :</span></dt><dd>0</dd><dt><span>GRIB_typeOfLevel :</span></dt><dd>surface</dd><dt><span>GRIB_units :</span></dt><dd>m</dd><dt><span>long_name :</span></dt><dd>Total precipitation</dd><dt><span>standard_name :</span></dt><dd>unknown</dd><dt><span>units :</span></dt><dd>m</dd></dl></div></li></ul></div></div>"
     },
     "execution_count": 11,
     "metadata": {},
     "output_type": "execute_result"
    }
   ],
   "source": [
    "from xarray import open_zarr\n",
    "import glob\n",
    "import os\n",
    "\n",
    "# path_hist = glob.glob(os.path.join(r\"C:\\Users\\KAMIL PC\\Desktop\\Life\\Stage\\Documents\\non_stationary_data\\eau_precpitable_CanESM5\"))\n",
    "path_hist = glob.glob(os.path.join(r\"C:\\Users\\HP\\Desktop\\Stage\\non_stationary_data\\kamil_non_stationary_data\"))\n",
    "\n",
    "ds_non_stationary = open_zarr(path_hist[0], consolidated=True)\n",
    "ds_non_stationary"
   ],
   "metadata": {
    "collapsed": false,
    "ExecuteTime": {
     "end_time": "2024-08-06T18:35:36.846164Z",
     "start_time": "2024-08-06T18:35:33.506382600Z"
    }
   },
   "id": "ea821e97889af457",
   "execution_count": 11
  },
  {
   "cell_type": "code",
   "outputs": [
    {
     "name": "stdout",
     "output_type": "stream",
     "text": [
      "Result: -16\n"
     ]
    },
    {
     "name": "stderr",
     "output_type": "stream",
     "text": [
      "C:\\Users\\HP\\AppData\\Local\\Temp\\ipykernel_20536\\1492412486.py:8: UserWarning: The input is negative, which might cause issues.\n",
      "  warnings.warn(\"The input is negative, which might cause issues.\", UserWarning)\n"
     ]
    }
   ],
   "source": [
    "import warnings\n",
    "\n",
    "# Ensure warnings are shown\n",
    "# warnings.simplefilter(\"always\", UserWarning)\n",
    "\n",
    "def risky_function(x):\n",
    "    if x < 0:\n",
    "        warnings.warn(\"The input is negative, which might cause issues.\", UserWarning)\n",
    "    return x * 2\n",
    "\n",
    "result = risky_function(-8)\n",
    "print(\"Result:\", result)\n"
   ],
   "metadata": {
    "collapsed": false,
    "ExecuteTime": {
     "end_time": "2024-08-08T16:50:01.966826500Z",
     "start_time": "2024-08-08T16:50:01.959282800Z"
    }
   },
   "id": "3efc73145dc92d22",
   "execution_count": 1
  },
  {
   "cell_type": "code",
   "outputs": [
    {
     "data": {
      "text/plain": "float"
     },
     "execution_count": 3,
     "metadata": {},
     "output_type": "execute_result"
    }
   ],
   "source": [
    "import numpy as np\n",
    "type(np.nan)"
   ],
   "metadata": {
    "collapsed": false,
    "ExecuteTime": {
     "end_time": "2024-08-08T17:32:23.406010100Z",
     "start_time": "2024-08-08T17:32:23.212929900Z"
    }
   },
   "id": "4d22af284dd33133",
   "execution_count": 3
  },
  {
   "cell_type": "code",
   "outputs": [
    {
     "data": {
      "text/plain": "numpy.float32"
     },
     "execution_count": 4,
     "metadata": {},
     "output_type": "execute_result"
    }
   ],
   "source": [
    "type(np.float32(69))"
   ],
   "metadata": {
    "collapsed": false,
    "ExecuteTime": {
     "end_time": "2024-08-08T17:32:46.060140800Z",
     "start_time": "2024-08-08T17:32:46.044324200Z"
    }
   },
   "id": "ded9baa3341f359f",
   "execution_count": 4
  },
  {
   "cell_type": "code",
   "outputs": [],
   "source": [],
   "metadata": {
    "collapsed": false
   },
   "id": "68999c4876cdf393"
  }
 ],
 "metadata": {
  "language_info": {
   "codemirror_mode": {
    "name": "ipython",
    "version": 3
   },
   "file_extension": ".py",
   "mimetype": "text/x-python",
   "name": "python",
   "nbconvert_exporter": "python",
   "pygments_lexer": "ipython3",
   "version": "3.12.3"
  },
  "kernelspec": {
   "name": "python3",
   "language": "python",
   "display_name": "Python 3 (ipykernel)"
  }
 },
 "nbformat": 4,
 "nbformat_minor": 5
}
