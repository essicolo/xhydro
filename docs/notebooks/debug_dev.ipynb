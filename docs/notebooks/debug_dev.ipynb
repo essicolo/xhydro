{
 "cells": [
  {
   "cell_type": "markdown",
   "id": "0",
   "metadata": {},
   "source": [
    "# *** Notebook stricly used for debugging purposes ***"
   ]
  },
  {
   "cell_type": "code",
   "execution_count": 8,
   "id": "1",
   "metadata": {
    "ExecuteTime": {
     "end_time": "2024-08-01T14:48:57.648526100Z",
     "start_time": "2024-08-01T14:48:56.851078500Z"
    }
   },
   "outputs": [],
   "source": [
    "%load_ext autoreload\n",
    "%autoreload 2\n",
    "%reload_ext autoreload\n",
    "from xhydro.extreme_value_analysis.structures.dataitem import Variable\n",
    "from xhydro.extreme_value_analysis.julia_import import Extremes, jl\n",
    "from juliacall import convert as jl_convert\n",
    "from xhydro.extreme_value_analysis.structures.conversions import py_list_to_jl_vector, jl_matrix_tuple_to_py_list, jl_vector_to_py_list, py_str_to_jl_symbol, py_variable_to_jl_variable\n",
    "import numpy as np\n",
    "from xhydro.extreme_value_analysis.parameterestimation import *\n",
    "import math\n",
    "import random"
   ]
  },
  {
   "cell_type": "code",
   "execution_count": 11,
   "id": "3",
   "metadata": {
    "ExecuteTime": {
     "end_time": "2024-07-29T15:19:41.490968200Z",
     "start_time": "2024-07-29T15:19:40.975596200Z"
    }
   },
   "outputs": [],
   "source": [
    "year = [1897, 1898, 1899, 1900, 1901, 1903, 1904, 1905, 1906, 1908, 1909, 1912, 1914, 1915, 1916, 1917, 1918, 1919, 1920, 1921, 1922, 1923, 1924, 1925, 1927, 1928, 1929, 1930, 1931, 1932, 1933, 1934, 1935, 1936, 1937, 1938, 1939, 1940, 1941, 1943, 1944, 1945, 1946, 1947, 1948, 1949, 1950, 1951, 1952, 1953, 1954, 1955, 1956, 1957, 1958, 1959, 1960, 1961, 1962, 1963, 1964, 1965, 1966, 1967, 1968, 1969, 1970, 1971, 1972, 1973, 1974, 1975, 1976, 1977, 1978, 1979, 1980, 1981, 1982, 1983, 1984, 1985, 1986, 1987, 1988, 1989]\n",
    "\n",
    "sealevel = [1.58, 1.71, 1.4, 1.34, 1.43, 1.19, 1.55, 1.34, 1.37, 1.46, 1.92, 1.37, 1.19, 1.4, 1.28, 1.52, 1.52, 1.58, 1.49, 1.65, 1.37, 1.49, 1.46, 1.34, 1.74, 1.62, 1.46, 1.71, 1.74, 1.55, 1.43, 1.62, 1.49, 1.58, 1.34, 1.37, 1.62, 1.31, 1.43, 1.49, 1.55, 1.71, 1.49, 1.46, 1.52, 1.58, 1.65, 1.49, 1.52, 1.52, 1.49, 1.62, 1.86, 1.58, 1.62, 1.46, 1.43, 1.46, 1.62, 1.68, 1.83, 1.62, 1.46, 1.58, 1.77, 1.62, 1.71, 1.46, 1.6, 1.5, 1.6, 1.9, 1.7, 1.4, 1.8, 1.37, 1.46, 1.61, 1.43, 1.67, 1.62, 1.57, 1.56, 1.46, 1.7, 1.51]\n",
    "\n",
    "soi = [-0.67, 0.57, 0.16, -0.65, 0.06, 0.47, 0.39, -1.78, 0.2, 0.28, 0.28, -0.97, -0.92, 0.16, 0.62, 2.12, 0.05, -1.09, 0.08, 0.66, 0.33, -0.36, 0.33, -0.24, 0.27, 0.43, 0.46, 0.03, 0.39, -0.68, 0.09, -0.01, 0.14, 0.03, 0.09, 0.86, 0.02, -1.52, -1.44, 0.35, -0.27, 0.42, -0.79, 0.16, -0.24, -0.21, 1.49, -0.69, -0.23, -0.76, 0.23, 0.89, 1.0, -0.45, -0.5, -0.11, 0.28, -0.01, 0.38, -0.32, 0.53, -0.97, -0.53, 0.25, 0.19, -0.66, 0.28, 1.06, -0.88, 0.63, 0.97, 1.32, 0.06, -1.13, -0.3, -0.08, -0.43, 0.06, -1.44, -0.94, -0.14, -0.07, -0.32, -1.47, 0.73, 0.61]"
   ]
  },
  {
   "cell_type": "code",
   "outputs": [
    {
     "name": "stderr",
     "output_type": "stream",
     "text": [
      "Progress: 100%|█████████████████████████████████████████| Time: 0:00:01\u001B[K\n"
     ]
    },
    {
     "data": {
      "text/plain": "BayesianAbstractExtremeValueModel\nmodel :\n\tBlockMaxima{GeneralizedExtremeValue}\n\tdata :\t\tVector{Real}[86]\n\tlocation :\tμ ~ 1\n\tlogscale :\tϕ ~ 1\n\tshape :\t\tξ ~ 1\n\nsim :\n\tMambaLite.Chains\n\tIterations :\t\t2001:5000\n\tThinning interval :\t1\n\tChains :\t\t1\n\tSamples per chain :\t3000\n\tValue :\t\t\tArray{Float64, 3}[3000,3,1]\n"
     },
     "execution_count": 20,
     "metadata": {},
     "output_type": "execute_result"
    }
   ],
   "source": [
    "fm = Extremes.gevfitbayes(py_list_to_jl_vector(sealevel))\n",
    "fm"
   ],
   "metadata": {
    "collapsed": false,
    "ExecuteTime": {
     "end_time": "2024-07-30T16:11:58.727913900Z",
     "start_time": "2024-07-30T16:11:56.128094400Z"
    }
   },
   "id": "e30c052539ed279d",
   "execution_count": 20
  },
  {
   "cell_type": "code",
   "outputs": [
    {
     "data": {
      "text/plain": "3000×3×1 Array{Float64, 3}:\n[:, :, 1] =\n 1.4541   -1.94008  -0.134381\n 1.46461  -1.98235  -0.116204\n 1.48219  -1.9562   -0.256369\n 1.49944  -1.92623  -0.249738\n 1.46098  -1.9384   -0.202245\n 1.49271  -1.86761  -0.135666\n 1.46124  -1.86137  -0.132511\n 1.50594  -1.88343  -0.104705\n 1.44593  -1.86321  -0.142623\n 1.50493  -1.92463  -0.158047\n ⋮                  \n 1.50606  -1.93549  -0.243104\n 1.48498  -1.9223   -0.199239\n 1.47432  -2.05558  -0.19251\n 1.47432  -2.05558  -0.19251\n 1.47185  -2.04155  -0.186134\n 1.47263  -1.97634  -0.0793152\n 1.47115  -1.89281   0.000949306\n 1.47811  -1.89003  -0.0731023\n 1.46612  -1.98691  -0.122106"
     },
     "execution_count": 25,
     "metadata": {},
     "output_type": "execute_result"
    }
   ],
   "source": [
    "value = fm.sim.value\n",
    "value"
   ],
   "metadata": {
    "collapsed": false,
    "ExecuteTime": {
     "end_time": "2024-07-30T16:34:09.505951100Z",
     "start_time": "2024-07-30T16:34:08.855823400Z"
    }
   },
   "id": "157d81e7b72d92f8",
   "execution_count": 25
  },
  {
   "cell_type": "code",
   "outputs": [
    {
     "name": "stdout",
     "output_type": "stream",
     "text": [
      "[1.4806282087729805, -1.9331422148209727, -0.20538374309548116]\n"
     ]
    }
   ],
   "source": [
    "# def jl_3d_array_to_py_list(jl_3d_array):\n",
    "#     for i in range(len(jl_3d_array[:, 0, 0])):\n",
    "#         row = jl.vec(jl_3d_array[i, :, :])\n",
    "#     pass\n",
    "# \n",
    "# \n",
    "# for i in range(len(value[:, 0, 0])):\n",
    "#     row = jl.vec(value[i, :, :])\n",
    "#     py_row = jl_vector_to_py_list(row)\n",
    "#     print(py_row)\n",
    "#     print(type(py_row))\n",
    "\n",
    "params_sims = [jl_vector_to_py_list(jl.vec(value[i, :, :])) for i in range(len(value[:, 0, 0]))]\n",
    "# print(params_sims)\n",
    "\n",
    "params_estimated = [sum(x) / len(params_sims) for x in zip(*params_sims)]\n",
    "print(params_estimated)"
   ],
   "metadata": {
    "collapsed": false,
    "ExecuteTime": {
     "end_time": "2024-07-30T18:07:09.224810900Z",
     "start_time": "2024-07-30T18:07:08.716458400Z"
    }
   },
   "id": "5f80b512843d691e",
   "execution_count": 43
  },
  {
   "cell_type": "code",
   "outputs": [],
   "source": [
    "from xhydro.extreme_value_analysis.julia_import import Extremes, jl"
   ],
   "metadata": {
    "collapsed": false,
    "ExecuteTime": {
     "end_time": "2024-08-01T14:47:11.304976800Z",
     "start_time": "2024-08-01T14:47:11.299457700Z"
    }
   },
   "id": "556d096f36a78807",
   "execution_count": 4
  },
  {
   "cell_type": "code",
   "outputs": [
    {
     "name": "stdout",
     "output_type": "stream",
     "text": [
      "65×2 DataFrame\n",
      " Row │ Year   SeaLevel\n",
      "     │ Int64  Float64\n",
      "─────┼─────────────────\n",
      "   1 │  1923      4.03\n",
      "   2 │  1924      3.83\n",
      "   3 │  1925      3.65\n",
      "   4 │  1926      3.88\n",
      "   5 │  1927      4.01\n",
      "   6 │  1928      4.08\n",
      "   7 │  1929      4.18\n",
      "   8 │  1930      3.8\n",
      "   9 │  1931      4.36\n",
      "  10 │  1932      3.96\n",
      "  11 │  1933      3.98\n",
      "  12 │  1934      4.69\n",
      "  13 │  1935      3.85\n",
      "  14 │  1936      3.96\n",
      "  15 │  1937      3.85\n",
      "  16 │  1938      3.93\n",
      "  17 │  1939      3.75\n",
      "  18 │  1940      3.63\n",
      "  19 │  1941      3.57\n",
      "  20 │  1942      4.25\n",
      "  21 │  1943      3.97\n",
      "  22 │  1944      4.05\n",
      "  23 │  1945      4.24\n",
      "  24 │  1946      4.22\n",
      "  25 │  1947      3.73\n",
      "  26 │  1948      4.37\n",
      "  27 │  1949      4.06\n",
      "  28 │  1950      3.71\n",
      "  29 │  1951      3.96\n",
      "  30 │  1952      4.06\n",
      "  31 │  1953      4.55\n",
      "  32 │  1954      3.79\n",
      "  33 │  1955      3.89\n",
      "  34 │  1956      4.11\n",
      "  35 │  1957      3.85\n",
      "  36 │  1958      3.86\n",
      "  37 │  1959      3.86\n",
      "  38 │  1960      4.21\n",
      "  39 │  1961      4.01\n",
      "  40 │  1962      4.11\n",
      "  41 │  1963      4.24\n",
      "  42 │  1964      3.96\n",
      "  43 │  1965      4.21\n",
      "  44 │  1966      3.74\n",
      "  45 │  1967      3.85\n",
      "  46 │  1968      3.88\n",
      "  47 │  1969      3.66\n",
      "  48 │  1970      4.11\n",
      "  49 │  1971      3.71\n",
      "  50 │  1972      4.18\n",
      "  51 │  1973      3.9\n",
      "  52 │  1974      3.78\n",
      "  53 │  1975      3.91\n",
      "  54 │  1976      3.72\n",
      "  55 │  1977      4.0\n",
      "  56 │  1978      3.66\n",
      "  57 │  1979      3.62\n",
      "  58 │  1980      4.33\n",
      "  59 │  1981      4.55\n",
      "  60 │  1982      3.75\n",
      "  61 │  1983      4.08\n",
      "  62 │  1984      3.9\n",
      "  63 │  1985      3.88\n",
      "  64 │  1986      3.94\n",
      "  65 │  1987      4.33\n"
     ]
    },
    {
     "data": {
      "text/plain": "juliacall.AnyValue"
     },
     "execution_count": 7,
     "metadata": {},
     "output_type": "execute_result"
    }
   ],
   "source": [
    "data = Extremes.dataset(\"portpirie\")\n",
    "print(data)\n",
    "type(data)\n"
   ],
   "metadata": {
    "collapsed": false,
    "ExecuteTime": {
     "end_time": "2024-08-01T14:47:37.768523700Z",
     "start_time": "2024-08-01T14:47:37.444087200Z"
    }
   },
   "id": "eb98c7c67930debd",
   "execution_count": 7
  },
  {
   "cell_type": "code",
   "outputs": [
    {
     "data": {
      "text/plain": "MaximumLikelihoodAbstractExtremeValueModel\nmodel :\n\tBlockMaxima{GeneralizedExtremeValue}\n\tdata :\t\tVector{Float64}[65]\n\tlocation :\tμ ~ 1\n\tlogscale :\tϕ ~ 1\n\tshape :\t\tξ ~ 1\n\nθ̂  :\t[3.874750223091266, -1.6192723640210762, -0.05010719929448139]\n"
     },
     "execution_count": 9,
     "metadata": {},
     "output_type": "execute_result"
    }
   ],
   "source": [
    "fm = Extremes.gevfit(data, py_str_to_jl_symbol(\"SeaLevel\"))\n",
    "fm"
   ],
   "metadata": {
    "collapsed": false,
    "ExecuteTime": {
     "end_time": "2024-08-01T14:49:20.961801300Z",
     "start_time": "2024-08-01T14:49:16.876860600Z"
    }
   },
   "id": "ae557dfdcdf619f1",
   "execution_count": 9
  },
  {
   "cell_type": "code",
   "outputs": [],
   "source": [],
   "metadata": {
    "collapsed": false
   },
   "id": "3d3540f9f65cec94"
  }
 ],
 "metadata": {
  "language_info": {
   "codemirror_mode": {
    "name": "ipython",
    "version": 3
   },
   "file_extension": ".py",
   "mimetype": "text/x-python",
   "name": "python",
   "nbconvert_exporter": "python",
   "pygments_lexer": "ipython3",
   "version": "3.12.3"
  },
  "kernelspec": {
   "name": "python3",
   "language": "python",
   "display_name": "Python 3 (ipykernel)"
  }
 },
 "nbformat": 4,
 "nbformat_minor": 5
}
