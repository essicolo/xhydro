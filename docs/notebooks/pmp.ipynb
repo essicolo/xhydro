{
 "cells": [
  {
   "cell_type": "markdown",
   "metadata": {},
   "source": [
    "# Probable Maximum Precipitation (PMP) module"
   ]
  },
  {
   "cell_type": "markdown",
   "metadata": {},
   "source": [
    "This example shows how to use the PMP module to compute the Probable Maximum Precipitation from climate change scenarios.  This module allows to compute the PMP on a grid (distributed) and for aggregated values of precipitation following the methodology shown by Clavet-Gaumont et al. (2017)."
   ]
  },
  {
   "cell_type": "code",
   "execution_count": 1,
   "metadata": {},
   "outputs": [],
   "source": [
    "from pathlib import Path\n",
    "from zipfile import ZipFile\n",
    "\n",
    "import pooch\n",
    "import xarray as xr\n",
    "from lmoments3.distr import gev\n",
    "\n",
    "from xhydro import pmp"
   ]
  },
  {
   "cell_type": "markdown",
   "metadata": {},
   "source": [
    "## Open data \n",
    "\n",
    "This example uses a sample of 5-years and 2x2 grid cells from the CMIP model which can be accessed from the xhydro-testdata repository."
   ]
  },
  {
   "cell_type": "code",
   "execution_count": 18,
   "metadata": {},
   "outputs": [
    {
     "name": "stderr",
     "output_type": "stream",
     "text": [
      "Downloading data from 'https://github.com/hydrologie/xhydro-testdata/raw/61e3b2b9a224d4dcc098c0acf3326cb13e22f441/data/pmp/CMIP.CCCma.CanESM5.historical.r1i1p1f1.day.gn.zarr.zip' to file 'C:\\Users\\ospin\\AppData\\Local\\pooch\\pooch\\Cache\\ff281516e0be793e7c57acf0a0f6ee32-CMIP.CCCma.CanESM5.historical.r1i1p1f1.day.gn.zarr.zip'.\n",
      "Downloading data from 'https://github.com/hydrologie/xhydro-testdata/raw/61e3b2b9a224d4dcc098c0acf3326cb13e22f441/data/pmp/CMIP.CCCma.CanESM5.historical.r1i1p1f1.fx.gn.zarr.zip' to file 'C:\\Users\\ospin\\AppData\\Local\\pooch\\pooch\\Cache\\094d57553089a610c585805fb02259c6-CMIP.CCCma.CanESM5.historical.r1i1p1f1.fx.gn.zarr.zip'.\n"
     ]
    }
   ],
   "source": [
    "GITHUB_URL = \"https://github.com/hydrologie/xhydro-testdata\"\n",
    "BRANCH_OR_COMMIT_HASH = \"61e3b2b9a224d4dcc098c0acf3326cb13e22f441\"\n",
    "\n",
    "path_day_zip = pooch.retrieve(\n",
    "    url=f\"{GITHUB_URL}/raw/{BRANCH_OR_COMMIT_HASH}/data/pmp/CMIP.CCCma.CanESM5.historical.r1i1p1f1.day.gn.zarr.zip\",\n",
    "    known_hash=\"md5:191cffe11cacc303db697aa91d9be7ab\",\n",
    ")\n",
    "\n",
    "path_fx_zip = pooch.retrieve(\n",
    "    url=f\"{GITHUB_URL}/raw/{BRANCH_OR_COMMIT_HASH}/data/pmp/CMIP.CCCma.CanESM5.historical.r1i1p1f1.fx.gn.zarr.zip\",\n",
    "    known_hash=\"md5:1257973a6f6047e6998c3430e3342534\",\n",
    ")\n",
    "\n",
    "directory_to_extract_to_day = Path(\n",
    "    path_day_zip\n",
    ").parent  # To extract to the same directory as the zip file\n",
    "with ZipFile(path_day_zip, \"r\") as zip_ref:\n",
    "    zip_ref.extractall(directory_to_extract_to_day)\n",
    "\n",
    "directory_to_extract_to_fx = Path(\n",
    "    path_fx_zip\n",
    ").parent  # To extract to the same directory as the zip file\n",
    "with ZipFile(path_fx_zip, \"r\") as zip_ref:\n",
    "    zip_ref.extractall(directory_to_extract_to_fx)\n",
    "\n",
    "path_day_zarr = (\n",
    "    str(directory_to_extract_to_day)\n",
    "    + \"/CMIP.CCCma.CanESM5.historical.r1i1p1f1.day.gn.zarr\"\n",
    ")\n",
    "path_fx_zarr = (\n",
    "    str(directory_to_extract_to_fx)\n",
    "    + \"/CMIP.CCCma.CanESM5.historical.r1i1p1f1.fx.gn.zarr\"\n",
    ")"
   ]
  },
  {
   "cell_type": "markdown",
   "metadata": {},
   "source": [
    "For this example, the CMIP simulations on an daily scale  were used since it contains the variables necessary for the computing of the PMP:\n",
    "\n",
    "ds_day\n",
    "* pr --> Precipitation_flux  \n",
    "* snw --> Snow water equivalent  \n",
    "* hus --> Specific humidity \n",
    "* zg --> Geopotential height\n",
    "\n",
    "ds_fx\n",
    "* orog --> Surface altitude"
   ]
  },
  {
   "cell_type": "code",
   "execution_count": 34,
   "metadata": {},
   "outputs": [],
   "source": [
    "ds_day = xr.open_zarr(path_day_zarr)\n",
    "ds_fx = xr.open_zarr(path_fx_zarr)"
   ]
  },
  {
   "cell_type": "markdown",
   "metadata": {},
   "source": [
    "## 1. PMP distributed"
   ]
  },
  {
   "cell_type": "markdown",
   "metadata": {},
   "source": [
    "### 1.1. Major precipitations events (pe).\n",
    "\n",
    "Sum of precipitation over 1, 2, 3 and 4 days and retention of the year's most intense storms.\n",
    "\n",
    "The 10% most intense storms are retained to avoid overmaximizing small precipitation events."
   ]
  },
  {
   "cell_type": "code",
   "execution_count": 4,
   "metadata": {},
   "outputs": [],
   "source": [
    "pe = pmp.major_precipitation_events(\n",
    "    ds_day.rf, acc_day=[1, 2, 3, 4], quantil=0.9, path=None\n",
    ")"
   ]
  },
  {
   "cell_type": "markdown",
   "metadata": {},
   "source": [
    "### 2.2 Calculating daily precipitable water (pw)\n",
    "\n",
    "Integration of specific humidity for all pressure levels for 1, 2, 3 and 4 days. Then, only the pw values associated with the major precipitation events (pe) are selected.\n"
   ]
  },
  {
   "cell_type": "code",
   "execution_count": 5,
   "metadata": {},
   "outputs": [],
   "source": [
    "pw = pmp.precipitable_water(ds_day, ds_fx, acc_day=[1, 2, 3, 4], path=None)\n",
    "pw_events = pw.where(pe > 0)"
   ]
  },
  {
   "cell_type": "markdown",
   "metadata": {},
   "source": [
    "###  2.3. Monthly 100-year return value of precipitable water (pw100)\n",
    "\n",
    "According to Clavet-Gaumont et al. (2017), the pw100 is calculated using the Generalized Extreme Value (GEV) and limiting the maximum value for PW100 to be less than 20% larger than the largest value of the maximum PW values (mf=0.2)."
   ]
  },
  {
   "cell_type": "code",
   "execution_count": 6,
   "metadata": {},
   "outputs": [],
   "source": [
    "pw100 = pmp.precipitable_water_100y(pw.sel(acc_day=1), dist=gev, mf=0.2, path=None)"
   ]
  },
  {
   "cell_type": "markdown",
   "metadata": {},
   "source": [
    "### 2.4.  Maximization ratio (r) and Maximized rainfall (pmax)"
   ]
  },
  {
   "cell_type": "code",
   "execution_count": 7,
   "metadata": {},
   "outputs": [],
   "source": [
    "r = pw100 / pw_events\n",
    "pmax = r * pe"
   ]
  },
  {
   "cell_type": "markdown",
   "metadata": {},
   "source": [
    "### 2.5. Definition of seasons\n",
    "\n",
    "1) The start and end of winter consider a minimum number of days with snow of 14 and 90 days, respectively, to guarantee snow accumulation at the beginning of winter and that there is no thaw at the end.\n",
    "\n",
    "2) The start and end of spring are defined 60 days before and 30 days after the end of winter."
   ]
  },
  {
   "cell_type": "code",
   "execution_count": 8,
   "metadata": {},
   "outputs": [],
   "source": [
    "mask = pmp.compute_spring_and_summer_mask(\n",
    "    ds_day.snw,\n",
    "    thresh=\"1 cm\",\n",
    "    window_wint_start=14,\n",
    "    window_wint_end=90,\n",
    "    spr_start=60,\n",
    "    spr_end=30,\n",
    ")\n",
    "\n",
    "pmax_spring = (pmax * mask.mask_spring).rename(\"pmp_spring\")\n",
    "pmax_summer = (pmax * mask.mask_summer).rename(\"pmp_summer\")"
   ]
  },
  {
   "cell_type": "markdown",
   "metadata": {},
   "source": [
    "### 2.6. PMP"
   ]
  },
  {
   "cell_type": "code",
   "execution_count": 9,
   "metadata": {},
   "outputs": [],
   "source": [
    "pmp_spring = pmax_spring.max(\"time\")\n",
    "pmp_summer = pmax_summer.max(\"time\")"
   ]
  },
  {
   "cell_type": "markdown",
   "metadata": {},
   "source": [
    "## 2. PMP with aggregated storm configurations\n",
    "\n",
    "The spatial_average_storm_configurations function allows to spatially aggregate the storms following the different configurations shown in Clavet-Gaumont et al. (2017). Once aggregated, the calculation of the aggregated PMP follows the same steps shown above."
   ]
  },
  {
   "cell_type": "code",
   "execution_count": 10,
   "metadata": {},
   "outputs": [],
   "source": [
    "ds_day_agg = pmp.spatial_average_storm_configurations(ds_day.rf, 10).chunk(\n",
    "    dict(time=-1)\n",
    ")\n",
    "pe_agg = pmp.major_precipitation_events(\n",
    "    ds_day_agg.chunk(dict(conf=-1)), acc_day=[1, 2, 3, 4], quantil=0.9, path=None\n",
    ")\n",
    "\n",
    "# Precipitable water (pw) must first be calculated in a distributed manner and then spatially averaged to obtain the aggregated precipitable water.\n",
    "pw_agg = pmp.spatial_average_storm_configurations(pw, 10)\n",
    "\n",
    "pw_events_agg = pw_agg.where(pe_agg > 0)\n",
    "\n",
    "pw100_agg = pmp.precipitable_water_100y(\n",
    "    pw_agg.sel(acc_day=1), dist=gev, mf=0.2, path=None\n",
    ")\n",
    "\n",
    "r_agg = pw100_agg / pw_events_agg\n",
    "\n",
    "pmax_agg = r_agg * pe_agg\n",
    "\n",
    "# To create the spring and summer masks, the snow cover must first be spatially averaged (ds_snw_agg).\n",
    "ds_snw_agg = pmp.spatial_average_storm_configurations(ds_day.snw, 10).chunk(\n",
    "    dict(time=-1)\n",
    ")\n",
    "mask_agg = pmp.compute_spring_and_summer_mask(\n",
    "    ds_snw_agg,\n",
    "    thresh=\"1 cm\",\n",
    "    window_wint_start=14,\n",
    "    window_wint_end=90,\n",
    "    spr_start=60,\n",
    "    spr_end=30,\n",
    ")\n",
    "\n",
    "pmax_spring_agg = (pmax_agg * mask_agg.mask_spring).rename(\"pmp_spring\")\n",
    "pmax_summer_agg = (pmax_agg * mask_agg.mask_summer).rename(\"pmp_summer\")\n",
    "\n",
    "pmp_spring_agg = pmax_spring_agg.max(\"time\")\n",
    "pmp_summer_agg = pmax_summer_agg.max(\"time\")"
   ]
  },
  {
   "cell_type": "markdown",
   "metadata": {},
   "source": [
    "## Results"
   ]
  },
  {
   "cell_type": "code",
   "execution_count": 11,
   "metadata": {},
   "outputs": [
    {
     "data": {
      "text/plain": [
       "array([60.67189856, 73.40169334, 72.17344421, 78.85401983, 68.91597628,\n",
       "       63.72309869, 71.99999003, 56.71861083, 59.69289196, 54.32799065,\n",
       "       68.69975861, 69.98327349, 56.00702449])"
      ]
     },
     "execution_count": 11,
     "metadata": {},
     "output_type": "execute_result"
    }
   ],
   "source": [
    "pmp_spring_agg.sel(acc_day=2).values"
   ]
  },
  {
   "cell_type": "code",
   "execution_count": 12,
   "metadata": {},
   "outputs": [
    {
     "data": {
      "text/plain": [
       "array([[60.67189856, 73.40169334],\n",
       "       [72.17344421, 78.85401983]])"
      ]
     },
     "execution_count": 12,
     "metadata": {},
     "output_type": "execute_result"
    }
   ],
   "source": [
    "pmp_spring.sel(acc_day=2).values"
   ]
  },
  {
   "cell_type": "code",
   "execution_count": 13,
   "metadata": {},
   "outputs": [
    {
     "data": {
      "text/plain": [
       "array([132.16790102,  97.21404162, 113.25224885, 109.40165686,\n",
       "       104.49179963, 102.05764168,  95.05785447,  87.06664538,\n",
       "        98.31741597,  94.42134837,  88.28404808,  89.26246296,\n",
       "        87.5754352 ])"
      ]
     },
     "execution_count": 13,
     "metadata": {},
     "output_type": "execute_result"
    }
   ],
   "source": [
    "pmp_summer_agg.sel(acc_day=2).values"
   ]
  },
  {
   "cell_type": "code",
   "execution_count": 14,
   "metadata": {},
   "outputs": [
    {
     "data": {
      "text/plain": [
       "array([[132.16790102,  97.21404162],\n",
       "       [113.25224885, 109.40165686]])"
      ]
     },
     "execution_count": 14,
     "metadata": {},
     "output_type": "execute_result"
    }
   ],
   "source": [
    "pmp_summer.sel(acc_day=2).values"
   ]
  }
 ],
 "metadata": {
  "language_info": {
   "codemirror_mode": {
    "name": "ipython",
    "version": 3
   },
   "file_extension": ".py",
   "mimetype": "text/x-python",
   "name": "python",
   "nbconvert_exporter": "python",
   "pygments_lexer": "ipython3",
   "version": "3.12.4"
  }
 },
 "nbformat": 4,
 "nbformat_minor": 2
}
