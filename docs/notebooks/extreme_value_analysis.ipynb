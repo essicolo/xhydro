{
 "cells": [
  {
   "cell_type": "markdown",
   "metadata": {},
   "source": [
    "# Extreme value analysis"
   ]
  },
  {
   "cell_type": "markdown",
   "metadata": {},
   "source": [
    "This module provides a wrapper for the Extremes.jl package, enabling its integration with Xarray. The Extremes.jl package allows the analysis of extreme values, providing the following features:\n",
    "\n",
    "- Methods for block maxima and threshold exceedances (e.g., genextreme, gumbel_r, genpareto).\n",
    "- Parameter estimation using probability-weighted moments, maximum likelihood, and Bayesian procedures.\n",
    "- Stationary and non-stationary models.\n",
    "- Return level estimation.\n",
    "\n",
    "For more information about the Extremes.jl package, see: https://doi.org/10.18637/jss.v109.i06 and https://github.com/jojal5/Extremes.jl"
   ]
  },
  {
   "cell_type": "code",
   "execution_count": null,
   "metadata": {},
   "outputs": [],
   "source": [
    "from pathlib import Path\n",
    "from zipfile import ZipFile\n",
    "\n",
    "import holoviews as hv\n",
    "import hvplot.xarray  # noqa\n",
    "import numpy as np\n",
    "import pandas as pd\n",
    "import panel as pn\n",
    "import pooch\n",
    "import xarray as xr\n",
    "\n",
    "from xhydro.extreme_value_analysis.parameterestimation import fit, return_level\n",
    "from xhydro.testing.helpers import deveraux"
   ]
  },
  {
   "cell_type": "markdown",
   "metadata": {},
   "source": [
    "### Data\n",
    "\n",
    "This example uses GFDL ESM4 annual total precipitation data from 1955 to 2100 for 97 virtual stations in Quebec."
   ]
  },
  {
   "cell_type": "code",
   "execution_count": null,
   "metadata": {},
   "outputs": [],
   "source": [
    "path_zip = deveraux().fetch(\"extreme_value_analysis/NOAA_GFDL_ESM4.zip\")\n",
    "\n",
    "directory_to_extract = Path(\n",
    "    path_zip\n",
    ").parent  # To extract to the same directory as the zip file\n",
    "with ZipFile(path_zip, \"r\") as zip_ref:\n",
    "    zip_ref.extractall(directory_to_extract)\n",
    "\n",
    "path_csv = str(directory_to_extract) + \"/data_NOAA_GFDL_ESM4.csv\"\n",
    "\n",
    "df = pd.read_csv(path_csv, parse_dates=[0])[\n",
    "    [\"time\", \"station_num\", \"station_name\", \"total_precip\"]\n",
    "]\n",
    "ds = df.to_xarray()\n",
    "ds = ds.set_coords([\"time\", \"station_num\", \"station_name\"])\n",
    "ds = ds.set_index(index=[\"station_num\", \"time\"])\n",
    "ds = ds.unstack(\"index\")"
   ]
  },
  {
   "cell_type": "code",
   "execution_count": null,
   "metadata": {},
   "outputs": [],
   "source": [
    "station_sel = pn.widgets.Select(\n",
    "    name=\"Select Station\", options=ds.coords[\"station_num\"].values.tolist()\n",
    ")\n",
    "\n",
    "\n",
    "def plot_station_data(station_num):\n",
    "    station_data = ds.total_precip.sel(station_num=station_num)\n",
    "    plot = station_data.hvplot.line(x=\"time\", title=f\"Virtual station {station_num}\")\n",
    "    return plot\n",
    "\n",
    "\n",
    "interactive_plot = pn.bind(plot_station_data, station_num=station_sel)\n",
    "pn.Column(station_sel, interactive_plot).servable()"
   ]
  },
  {
   "cell_type": "markdown",
   "metadata": {},
   "source": [
    "### Parameter estimation for stationary model\n",
    "\n",
    "GenExtreme parameter estimation is performed using maximum likelihood. Confidence intervals are calculated with 95% confidence."
   ]
  },
  {
   "cell_type": "code",
   "execution_count": null,
   "metadata": {},
   "outputs": [],
   "source": [
    "fit_stationary = fit(\n",
    "    ds, dist=\"genextreme\", method=\"ml\", vars=[\"total_precip\"], confidence_level=0.95\n",
    ")\n",
    "fit_stationary"
   ]
  },
  {
   "cell_type": "markdown",
   "metadata": {},
   "source": [
    "### Return level estimation for stationary model\n",
    "\n",
    "100-year return level for the Gumbel distribution using maximum likelihood. Confidence intervals are calculated with 95% confidence."
   ]
  },
  {
   "cell_type": "code",
   "execution_count": null,
   "metadata": {},
   "outputs": [],
   "source": [
    "rtnlv_stationary = return_level(\n",
    "    ds,\n",
    "    dist=\"gumbel_r\",\n",
    "    method=\"ml\",\n",
    "    vars=[\"total_precip\"],\n",
    "    confidence_level=0.95,\n",
    "    return_period=100,\n",
    ")\n",
    "rtnlv_stationary"
   ]
  },
  {
   "cell_type": "markdown",
   "metadata": {},
   "source": [
    "### Parameter estimation for non-stationary model\n",
    "\n",
    "For this example the location paramerter vary as linear funcion of the year. To do this, a new dimension containing the year is created."
   ]
  },
  {
   "cell_type": "code",
   "execution_count": null,
   "metadata": {},
   "outputs": [],
   "source": [
    "ds2 = ds.copy(deep=True)\n",
    "ds2[\"year\"] = (\n",
    "    [\"station_num\", \"time\"],\n",
    "    np.tile(pd.to_datetime(ds.time).year, (ds2.dims[\"station_num\"], 1)),\n",
    ")\n",
    "ds2"
   ]
  },
  {
   "cell_type": "code",
   "execution_count": null,
   "metadata": {},
   "outputs": [],
   "source": [
    "fit_non_stationary = fit(\n",
    "    ds2,\n",
    "    dist=\"genextreme\",\n",
    "    method=\"ml\",\n",
    "    vars=[\"total_precip\"],\n",
    "    locationcov=[\"year\"],\n",
    "    confidence_level=0.95,\n",
    ")\n",
    "fit_non_stationary"
   ]
  },
  {
   "cell_type": "markdown",
   "metadata": {},
   "source": [
    "### Return level estimation for non-stationary model\n",
    "\n",
    "100-year return level with the location paramerter vary as linear funcion of the year."
   ]
  },
  {
   "cell_type": "code",
   "execution_count": null,
   "metadata": {},
   "outputs": [],
   "source": [
    "rtnlv_non_stationary = return_level(\n",
    "    ds2,\n",
    "    dist=\"genextreme\",\n",
    "    method=\"ml\",\n",
    "    vars=[\"total_precip\"],\n",
    "    locationcov=[\"year\"],\n",
    "    confidence_level=0.95,\n",
    "    return_period=100,\n",
    ")\n",
    "\n",
    "rtnlv_non_stationary"
   ]
  },
  {
   "cell_type": "markdown",
   "metadata": {},
   "source": [
    "# Comparison of the return level using the stationary and non-stationary model"
   ]
  },
  {
   "cell_type": "code",
   "execution_count": null,
   "metadata": {},
   "outputs": [],
   "source": [
    "station_selector = pn.widgets.Select(\n",
    "    name=\"Select Station\",\n",
    "    options=rtnlv_non_stationary.coords[\"station_num\"].values.tolist(),\n",
    ")\n",
    "\n",
    "\n",
    "def plot_station_data(station_num):\n",
    "\n",
    "    non_stationary = rtnlv_non_stationary.sel(station_num=station_num)\n",
    "    stationary = rtnlv_stationary.sel(station_num=station_num)\n",
    "\n",
    "    line_plot_sta = hv.Curve(\n",
    "        (non_stationary.return_level.values, stationary.total_precip.values[0]),\n",
    "        label=\"Stationary\",\n",
    "    ).opts(color=\"blue\")\n",
    "    area_plot = hv.Area(\n",
    "        (\n",
    "            list(non_stationary.return_level.values),\n",
    "            stationary.total_precip_lower.values[0],\n",
    "            stationary.total_precip_upper.values[0],\n",
    "        ),\n",
    "        vdims=[\"y\", \"y2\"],\n",
    "    ).opts(alpha=0.3, color=\"blue\", line_width=0)\n",
    "\n",
    "    area_plot_non = non_stationary.hvplot.area(\n",
    "        x=\"return_level\",\n",
    "        y=\"total_precip_lower\",\n",
    "        y2=\"total_precip_upper\",\n",
    "        alpha=0.3,\n",
    "        color=\"red\",\n",
    "        line_width=0,\n",
    "    )\n",
    "    line_plot_non = non_stationary[\"total_precip\"].hvplot.line(\n",
    "        x=\"return_level\", label=\"Non-stationary\", color=\"red\"\n",
    "    )\n",
    "\n",
    "    plot = area_plot * line_plot_sta * area_plot_non * line_plot_non\n",
    "\n",
    "    plot = plot.opts(\n",
    "        title=f\"Virtual Station {station_num}\",\n",
    "        xlabel=\"Return Level (Time)\",\n",
    "        ylabel=\"Total Precipitation\",\n",
    "    )\n",
    "\n",
    "    return plot\n",
    "\n",
    "\n",
    "interactive_plot = pn.bind(plot_station_data, station_num=station_selector)\n",
    "\n",
    "\n",
    "pn.Column(station_selector, interactive_plot).servable()"
   ]
  },
  {
   "cell_type": "markdown",
   "metadata": {},
   "source": [
    "# Working with dask.array chunks"
   ]
  },
  {
   "cell_type": "markdown",
   "metadata": {},
   "source": [
    "Currently, the extreme_value_analysis function is not thread-safe. Therefore, it is recommended to use the dask.scheduler=\"processes\" option to ensures that tasks are executed in separate Python processes."
   ]
  },
  {
   "cell_type": "code",
   "execution_count": null,
   "metadata": {},
   "outputs": [],
   "source": [
    "ds_c = ds.chunk({\"time\": -1, \"station_num\": 1})\n",
    "\n",
    "fit_stationary_c = fit(\n",
    "    ds_c, dist=\"genextreme\", method=\"ml\", vars=[\"total_precip\"], confidence_level=0.95\n",
    ")\n",
    "fit_stationary_c"
   ]
  },
  {
   "cell_type": "code",
   "execution_count": null,
   "metadata": {},
   "outputs": [],
   "source": [
    "fit_stationary_c.compute(scheduler=\"processes\")"
   ]
  }
 ],
 "metadata": {
  "kernelspec": {
   "display_name": "xhydro-dev",
   "language": "python",
   "name": "python3"
  },
  "language_info": {
   "codemirror_mode": {
    "name": "ipython",
    "version": 3
   },
   "file_extension": ".py",
   "mimetype": "text/x-python",
   "name": "python",
   "nbconvert_exporter": "python",
   "pygments_lexer": "ipython3",
   "version": "3.12.3"
  }
 },
 "nbformat": 4,
 "nbformat_minor": 2
}
