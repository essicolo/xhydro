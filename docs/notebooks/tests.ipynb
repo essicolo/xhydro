{
 "cells": [
  {
   "cell_type": "code",
   "execution_count": null,
   "id": "0",
   "metadata": {},
   "outputs": [],
   "source": [
    "from xhydro.extreme_value_analysis.structures.conversions import py_list_to_jl_vector"
   ]
  },
  {
   "cell_type": "code",
   "execution_count": null,
   "id": "1",
   "metadata": {},
   "outputs": [],
   "source": [
    "py_list = [1, 2, 3, 4, 5]\n",
    "jl_vector = py_list_to_jl_vector(py_list)\n",
    "jl_vector"
   ]
  },
  {
   "cell_type": "code",
   "execution_count": null,
   "id": "2",
   "metadata": {},
   "outputs": [],
   "source": [
    "# C:\\ProgramData\\anaconda3\\envs\\xhydro-dev\\Lib\\site-packages\\xclim\\indices\\stats.py\n",
    "import xclim.indices.stats as stats\n",
    "\n",
    "stats.get_dist(\"genextreme\")"
   ]
  },
  {
   "cell_type": "code",
   "execution_count": null,
   "id": "3",
   "metadata": {},
   "outputs": [],
   "source": [
    "# C:\\ProgramData\\anaconda3\\envs\\xhydro-dev\\Lib\\site-packages\\xclim\\core\\formatting.py\n",
    "from xclim.core.formatting import prefix_attrs\n",
    "\n",
    "source = params = {\"a\": 2.295206110128833, \"loc\": 0, \"scale\": 1.4100535991436407}\n",
    "attrs = prefix_attrs(\n",
    "    source, [\"standard_name\", \"long_name\", \"units\", \"description\"], \"original_\"\n",
    ")\n",
    "attrs"
   ]
  }
 ],
 "metadata": {
  "language_info": {
   "codemirror_mode": {
    "name": "ipython",
    "version": 2
   },
   "file_extension": ".py",
   "mimetype": "text/x-python",
   "name": "python",
   "nbconvert_exporter": "python",
   "pygments_lexer": "ipython2",
   "version": "2.7.6"
  }
 },
 "nbformat": 4,
 "nbformat_minor": 5
}
