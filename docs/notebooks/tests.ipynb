{
 "cells": [
  {
   "cell_type": "raw",
   "source": [],
   "metadata": {
    "collapsed": false
   },
   "id": "8eb6461aa0a45401"
  },
  {
   "cell_type": "code",
   "execution_count": null,
   "id": "initial_id",
   "metadata": {
    "collapsed": true
   },
   "outputs": [],
   "source": [
    "from xhydro.extreme_value_analysis.structures.conversions import py_list_to_jl_vector"
   ]
  },
  {
   "cell_type": "code",
   "outputs": [],
   "source": [
    "py_list = [1,2,3,4,5]\n",
    "jl_vector = py_list_to_jl_vector(py_list)\n",
    "jl_vector"
   ],
   "metadata": {
    "collapsed": false
   },
   "id": "bfe4618669a4a9a8",
   "execution_count": null
  },
  {
   "cell_type": "code",
   "outputs": [],
   "source": [
    "# C:\\ProgramData\\anaconda3\\envs\\xhydro-dev\\Lib\\site-packages\\xclim\\indices\\stats.py\n",
    "import xclim.indices.stats as stats\n",
    "stats.get_dist(\"genextreme\")"
   ],
   "metadata": {
    "collapsed": false
   },
   "id": "93a793ed794fa6f8",
   "execution_count": null
  },
  {
   "cell_type": "code",
   "outputs": [],
   "source": [
    "# C:\\ProgramData\\anaconda3\\envs\\xhydro-dev\\Lib\\site-packages\\xclim\\core\\formatting.py\n",
    "from xclim.core.formatting import prefix_attrs\n",
    "source = params = {\"a\": 2.295206110128833,\"loc\": 0,\"scale\": 1.4100535991436407}\n",
    "attrs = prefix_attrs(source, [\"standard_name\", \"long_name\", \"units\", \"description\"], \"original_\")\n",
    "attrs"
   ],
   "metadata": {
    "collapsed": false
   },
   "id": "5360ef6d1a93f8b",
   "execution_count": null
  },
  {
   "cell_type": "code",
   "outputs": [],
   "source": [],
   "metadata": {
    "collapsed": false
   },
   "id": "3cab9db5d94f00"
  }
 ],
 "metadata": {
  "kernelspec": {
   "display_name": "Python 3",
   "language": "python",
   "name": "python3"
  },
  "language_info": {
   "codemirror_mode": {
    "name": "ipython",
    "version": 2
   },
   "file_extension": ".py",
   "mimetype": "text/x-python",
   "name": "python",
   "nbconvert_exporter": "python",
   "pygments_lexer": "ipython2",
   "version": "2.7.6"
  }
 },
 "nbformat": 4,
 "nbformat_minor": 5
}
