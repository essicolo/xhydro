{
 "cells": [
  {
   "cell_type": "markdown",
   "id": "0",
   "metadata": {},
   "source": [
    "# *** Notebook stricly used for debugging purposes ***"
   ]
  },
  {
   "cell_type": "code",
   "execution_count": null,
   "id": "1",
   "metadata": {},
   "outputs": [],
   "source": [
    "%load_ext autoreload\n",
    "%autoreload 2\n",
    "%reload_ext autoreload\n",
    "\n",
    "from xhydro_temp.extreme_value_analysis.parameterestimation import *"
   ]
  },
  {
   "cell_type": "code",
   "execution_count": null,
   "id": "2",
   "metadata": {},
   "outputs": [],
   "source": [
    "y = [\n",
    "    31.4,\n",
    "    38.8,\n",
    "    63.78,\n",
    "    54.82,\n",
    "    123.2,\n",
    "    108.2,\n",
    "    108.1,\n",
    "    98.52,\n",
    "    42.24,\n",
    "    33.45,\n",
    "    60.0,\n",
    "    84.23,\n",
    "    48.07,\n",
    "    77.71,\n",
    "    38.37,\n",
    "    42.02,\n",
    "    46.0,\n",
    "]\n",
    "params = gevfit(y)\n",
    "params"
   ]
  },
  {
   "cell_type": "code",
   "execution_count": null,
   "id": "3",
   "metadata": {},
   "outputs": [],
   "source": [
    "GITHUB_URL = \"https://github.com/hydrologie/xhydro-testdata\"\n",
    "BRANCH_OR_COMMIT_HASH = \"extreme_value_analysis\"\n",
    "FOLDER = \"extreme_value_analysis\"\n",
    "\n",
    "GEV_STATIONARY = \"gev_stationary\"\n",
    "GEV_NONSTATIONARY = \"gev_nonstationary\"\n",
    "GP_STATIONARY = \"gp_stationary\"\n",
    "GP_NONSTATIONARY = \"gp_nonstationary\"\n",
    "\n",
    "FILE_URLS = {\n",
    "    GEV_STATIONARY: f\"{GITHUB_URL}/raw/{BRANCH_OR_COMMIT_HASH}/data/{FOLDER}/{GEV_STATIONARY}.csv\",\n",
    "    GEV_NONSTATIONARY: f\"{GITHUB_URL}/raw/{BRANCH_OR_COMMIT_HASH}/data/{FOLDER}/{GEV_NONSTATIONARY}.csv\",\n",
    "    GP_STATIONARY: f\"{GITHUB_URL}/raw/{BRANCH_OR_COMMIT_HASH}/data/{FOLDER}/{GP_STATIONARY}.csv\",\n",
    "    GP_NONSTATIONARY: f\"{GITHUB_URL}/raw/{BRANCH_OR_COMMIT_HASH}/data/{FOLDER}/{GP_NONSTATIONARY}.csv\",\n",
    "}"
   ]
  },
  {
   "cell_type": "code",
   "execution_count": null,
   "id": "4",
   "metadata": {},
   "outputs": [],
   "source": [
    "import pandas as pd\n",
    "\n",
    "csv_url = FILE_URLS[GEV_STATIONARY]\n",
    "\n",
    "# Read the CSV file from the URL\n",
    "df = pd.read_csv(csv_url)\n",
    "y = df[\"y\"].values\n",
    "y"
   ]
  }
 ],
 "metadata": {
  "language_info": {
   "codemirror_mode": {
    "name": "ipython",
    "version": 3
   },
   "file_extension": ".py",
   "mimetype": "text/x-python",
   "name": "python",
   "nbconvert_exporter": "python",
   "pygments_lexer": "ipython3",
   "version": "3.12.3"
  }
 },
 "nbformat": 4,
 "nbformat_minor": 5
}
