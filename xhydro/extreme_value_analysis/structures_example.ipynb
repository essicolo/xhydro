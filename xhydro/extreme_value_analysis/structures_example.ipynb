{
 "cells": [
  {
   "cell_type": "code",
   "execution_count": 1,
   "metadata": {},
   "outputs": [
    {
     "name": "stdout",
     "output_type": "stream",
     "text": [
      "[juliapkg] Found dependencies: c:\\programdata\\anaconda3\\envs\\xhydro-dev\\julia_env\\pyjuliapkg\\juliapkg.json\n",
      "[juliapkg] Found dependencies: c:\\programdata\\anaconda3\\envs\\xhydro-dev\\lib\\site-packages\\juliacall\\juliapkg.json\n",
      "[juliapkg] Found dependencies: c:\\programdata\\anaconda3\\envs\\xhydro-dev\\lib\\site-packages\\juliapkg\\juliapkg.json\n",
      "[juliapkg] Locating Julia ~1.6.1, ~1.7, ~1.8, ~1.9, =1.10.0, ^1.10.3\n",
      "[juliapkg] Using Julia 1.9.4 at C:\\temp\\CONDA_HOME\\Julia-1.9.4\\bin\\julia.EXE\n",
      "[juliapkg] Using Julia project at C:\\ProgramData\\anaconda3\\envs\\xhydro-dev\\julia_env\n",
      "[juliapkg] Installing packages:\n",
      "           julia> import Pkg\n",
      "           julia> Pkg.Registry.update()\n",
      "           julia> Pkg.add([Pkg.PackageSpec(name=\"Extremes\", uuid=\"fe3fe864-1b39-11e9-20b8-1f96fa57382d\"), Pkg.PackageSpec(name=\"MambaLite\", uuid=\"ee262687-6dc1-48e3-a463-c0a35b1bf9d0\"), Pkg.PackageSpec(name=\"PythonCall\", uuid=\"6099a3de-0909-46bc-b1f4-468b9a2dfc0d\")])\n",
      "           julia> Pkg.resolve()\n",
      "           julia> Pkg.precompile()\n",
      "Detected IPython. Loading juliacall extension. See https://juliapy.github.io/PythonCall.jl/stable/compat/#IPython\n"
     ]
    }
   ],
   "source": [
    "%load_ext autoreload\n",
    "%autoreload 2\n",
    "%reload_ext autoreload\n",
    "\n",
    "from julia_import import Extremes, jl\n",
    "from juliacall import convert as jl_convert  \n",
    "from xhydro.extreme_value_analysis.structures.cluster import *\n",
    "from xhydro.extreme_value_analysis.structures.data import *\n"
   ]
  },
  {
   "cell_type": "markdown",
   "metadata": {},
   "source": [
    "### getcluster(y, u_1, u_2)\n"
   ]
  },
  {
   "cell_type": "code",
   "execution_count": null,
   "metadata": {},
   "outputs": [],
   "source": [
    "import random\n",
    "y = [random.uniform(-50.0, 50.0) for _ in range(25)]\n",
    "\n",
    "clusters = getcluster(y, u_1 = 28.0, u_2 = 2.0)\n",
    "print(clusters)\n",
    "print(type(clusters))\n"
   ]
  },
  {
   "cell_type": "markdown",
   "metadata": {},
   "source": [
    "### getcluster(y, u, runlength)"
   ]
  },
  {
   "cell_type": "code",
   "execution_count": null,
   "metadata": {},
   "outputs": [],
   "source": [
    "clusters = getcluster(y, u = 28.0, runlength = 9)\n",
    "print(clusters)\n",
    "print(type(clusters))\n",
    "\n",
    "clusters[0]\n",
    "\n"
   ]
  },
  {
   "cell_type": "markdown",
   "metadata": {},
   "source": [
    "### Bad uses"
   ]
  },
  {
   "cell_type": "code",
   "execution_count": null,
   "metadata": {},
   "outputs": [],
   "source": [
    "clusters = getcluster(y, u_1 = 8, u = 28.0, runlength = 9)"
   ]
  },
  {
   "cell_type": "code",
   "execution_count": null,
   "metadata": {},
   "outputs": [],
   "source": [
    "import pandas as pd\n",
    "from xhydro.extreme_value_analysis.structures.data import *\n",
    "from xhydro.extreme_value_analysis.parameterestimation.maximumlikelihood import *\n",
    "\n",
    "df = pd.read_csv('portpirie.csv')\n",
    "print(type(df))\n",
    "data = jl_convert(jl.DataFrame, df)\n",
    "\n",
    "\n",
    "# print(data)\n",
    "# data = jldataframe_to_pandas_dataframe(data)\n",
    "# print(type(data))\n",
    "# print(data)"
   ]
  },
  {
   "cell_type": "code",
   "execution_count": null,
   "metadata": {},
   "outputs": [],
   "source": []
  }
 ],
 "metadata": {
  "kernelspec": {
   "display_name": "xhydro-dev",
   "language": "python",
   "name": "python3"
  },
  "language_info": {
   "codemirror_mode": {
    "name": "ipython",
    "version": 3
   },
   "file_extension": ".py",
   "mimetype": "text/x-python",
   "name": "python",
   "nbconvert_exporter": "python",
   "pygments_lexer": "ipython3",
   "version": "3.12.3"
  }
 },
 "nbformat": 4,
 "nbformat_minor": 2
}
