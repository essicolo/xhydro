{
 "cells": [
  {
   "cell_type": "code",
   "execution_count": null,
   "metadata": {},
   "outputs": [],
   "source": [
    "%load_ext autoreload\n",
    "%autoreload 2\n",
    "%reload_ext autoreload\n",
    "\n",
    "from julia_import import Extremes, jl\n",
    "from juliacall import convert as jl_convert  \n",
    "from xhydro.extreme_value_analysis.structures.cluster import *\n",
    "from xhydro.extreme_value_analysis.structures.data import *\n"
   ]
  },
  {
   "cell_type": "markdown",
   "metadata": {},
   "source": [
    "### getcluster(y, u_1, u_2)\n"
   ]
  },
  {
   "cell_type": "code",
   "execution_count": null,
   "metadata": {},
   "outputs": [],
   "source": [
    "import random\n",
    "y = [random.uniform(-50.0, 50.0) for _ in range(25)]\n",
    "\n",
    "clusters = getcluster(y, u_1 = 28.0, u_2 = 2.0)\n",
    "print(clusters)\n",
    "print(type(clusters))\n"
   ]
  },
  {
   "cell_type": "markdown",
   "metadata": {},
   "source": [
    "### getcluster(y, u, runlength)"
   ]
  },
  {
   "cell_type": "code",
   "execution_count": null,
   "metadata": {},
   "outputs": [],
   "source": [
    "clusters = getcluster(y, u = 28.0, runlength = 9)\n",
    "print(clusters)\n",
    "print(type(clusters))\n",
    "\n",
    "clusters[0]\n",
    "\n"
   ]
  },
  {
   "cell_type": "markdown",
   "metadata": {},
   "source": [
    "### Bad uses"
   ]
  },
  {
   "cell_type": "code",
   "execution_count": null,
   "metadata": {},
   "outputs": [],
   "source": [
    "clusters = getcluster(y, u_1 = 8, u = 28.0, runlength = 9)"
   ]
  },
  {
   "cell_type": "code",
   "execution_count": null,
   "metadata": {},
   "outputs": [],
   "source": [
    "import pandas as pd\n",
    "from xhydro.extreme_value_analysis.structures.data import *\n",
    "from xhydro.extreme_value_analysis.parameterestimation.maximumlikelihood import *\n",
    "\n",
    "df = pd.read_csv('portpirie.csv')\n",
    "print(type(df))\n",
    "data = jl_convert(jl.DataFrame, df)\n",
    "\n",
    "\n",
    "# print(data)\n",
    "# data = jldataframe_to_pandas_dataframe(data)\n",
    "# print(type(data))\n",
    "# print(data)"
   ]
  },
  {
   "cell_type": "code",
   "execution_count": null,
   "metadata": {},
   "outputs": [],
   "source": []
  }
 ],
 "metadata": {
  "kernelspec": {
   "display_name": "xhydro-dev",
   "language": "python",
   "name": "python3"
  },
  "language_info": {
   "codemirror_mode": {
    "name": "ipython",
    "version": 3
   },
   "file_extension": ".py",
   "mimetype": "text/x-python",
   "name": "python",
   "nbconvert_exporter": "python",
   "pygments_lexer": "ipython3",
   "version": "3.12.3"
  }
 },
 "nbformat": 4,
 "nbformat_minor": 2
}
