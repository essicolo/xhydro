{
 "cells": [
  {
   "cell_type": "code",
   "execution_count": null,
   "metadata": {},
   "outputs": [],
   "source": [
    "%load_ext autoreload\n",
    "%autoreload 2\n",
    "%reload_ext autoreload\n",
    "\n",
    "from julia_import import Extremes, jl\n",
    "from xhydro.extreme_value_analysis.parameterestimation.maximumlikelihood import *\n",
    "from xhydro.extreme_value_analysis.structures.data import *\n",
    "from xhydro.extreme_value_analysis.structures.abstract_extreme_value_model import *\n",
    "# jl.seval(\"using Pkg\")\n",
    "# jl.seval('Pkg.add(\"MambaLite\")')"
   ]
  },
  {
   "cell_type": "code",
   "execution_count": null,
   "metadata": {},
   "outputs": [],
   "source": [
    "data = Extremes.dataset(\"fremantle\")\n",
    "df = jl_dataframe_to_pd_dataframe(data)\n",
    "y = df.iloc[:, 1].tolist() # SeaLevel\n",
    "initialvalues = [4.0, -2.0, 0.0]\n",
    "# data\n"
   ]
  },
  {
   "cell_type": "code",
   "execution_count": null,
   "metadata": {},
   "outputs": [],
   "source": [
    "fm1 = gevfit_1(y)\n",
    "print(fm1)"
   ]
  },
  {
   "cell_type": "code",
   "execution_count": null,
   "metadata": {},
   "outputs": [],
   "source": [
    "print(fm1.model.location.fun)\n",
    "print(fm1.model.logscale.fun)\n",
    "print(fm1.model.shape.fun)\n",
    "print(type(fm1.model))\n",
    "print(fm1.model.type)"
   ]
  },
  {
   "cell_type": "code",
   "execution_count": null,
   "metadata": {},
   "outputs": [],
   "source": [
    "# py_maximumlikelihood_aev_to_jl_aev(fm1) #doesnt work because py_blockmaxima_to_jl_blockmaxima doesnt work\n",
    "jl_blockmaxima = py_blockmaxima_to_jl_blockmaxima(fm1.model) #fm1.model, in this case, is a BlockMaxima object\n",
    "print(jl_blockmaxima)\n",
    "print(jl.typeof(jl_blockmaxima))"
   ]
  }
 ],
 "metadata": {
  "kernelspec": {
   "display_name": "xhydro-dev",
   "language": "python",
   "name": "python3"
  },
  "language_info": {
   "codemirror_mode": {
    "name": "ipython",
    "version": 3
   },
   "file_extension": ".py",
   "mimetype": "text/x-python",
   "name": "python",
   "nbconvert_exporter": "python",
   "pygments_lexer": "ipython3",
   "version": "3.12.3"
  }
 },
 "nbformat": 4,
 "nbformat_minor": 2
}
