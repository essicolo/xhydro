{
 "cells": [
  {
   "cell_type": "code",
   "execution_count": null,
   "metadata": {},
   "outputs": [],
   "source": [
    "%load_ext autoreload\n",
    "%autoreload 2\n",
    "%reload_ext autoreload\n",
    "\n",
    "from julia_import import Extremes, jl\n",
    "from xhydro.extreme_value_analysis.structures.util import *\n",
    "from xhydro.extreme_value_analysis.parameterestimation.maximumlikelihood import  gevfit_3\n",
    "from xhydro.extreme_value_analysis.parameterestimation.bayesian import gevfitbayes_2\n",
    "from xhydro.extreme_value_analysis.parameterestimation.probabilityweightedmoment import gevfitpwm_2\n"
   ]
  },
  {
   "cell_type": "code",
   "execution_count": null,
   "metadata": {},
   "outputs": [],
   "source": [
    "data = Extremes.dataset(\"fremantle\")\n",
    "df = jl_dataframe_to_pd_dataframe(data)\n",
    "fm1 = gevfit_3(df, \"SeaLevel\")\n",
    "fm2 = gevfitbayes_2(df, \"SeaLevel\")\n",
    "fm3 = gevfitpwm_2(df, \"SeaLevel\")"
   ]
  },
  {
   "cell_type": "code",
   "execution_count": null,
   "metadata": {},
   "outputs": [],
   "source": [
    "rl1 = returnlevel(fm1, 10)\n",
    "rl2 = returnlevel(fm2, 10)\n",
    "rl3 = returnlevel(fm3, 10)\n",
    "\n",
    "print(rl1)\n",
    "print(rl2)\n",
    "print(rl3)"
   ]
  },
  {
   "cell_type": "code",
   "execution_count": null,
   "metadata": {},
   "outputs": [],
   "source": [
    "print(cint_1(fm1, 0.5))\n",
    "print(cint_1(fm2, 0.5))\n",
    "print(cint_1(fm3, 0.5))"
   ]
  },
  {
   "cell_type": "code",
   "execution_count": null,
   "metadata": {},
   "outputs": [],
   "source": [
    "print(cint_2(rl1, 0.5))\n",
    "print(cint_2(rl2, 0.5))\n",
    "print(cint_2(rl3, 0.5))"
   ]
  },
  {
   "cell_type": "code",
   "execution_count": null,
   "metadata": {},
   "outputs": [],
   "source": [
    "print(parametervar(fm1))\n",
    "print(parametervar(fm2))\n",
    "print(parametervar(fm3))"
   ]
  },
  {
   "cell_type": "code",
   "execution_count": null,
   "metadata": {},
   "outputs": [],
   "source": []
  }
 ],
 "metadata": {
  "kernelspec": {
   "display_name": "xhydro-dev",
   "language": "python",
   "name": "python3"
  },
  "language_info": {
   "codemirror_mode": {
    "name": "ipython",
    "version": 3
   },
   "file_extension": ".py",
   "mimetype": "text/x-python",
   "name": "python",
   "nbconvert_exporter": "python",
   "pygments_lexer": "ipython3",
   "version": "3.12.3"
  }
 },
 "nbformat": 4,
 "nbformat_minor": 2
}
