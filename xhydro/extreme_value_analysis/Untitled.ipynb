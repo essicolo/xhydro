{
 "cells": [
  {
   "cell_type": "code",
   "outputs": [],
   "source": [
    "from juliacall import Main as jl\n",
    "from juliapkg import add\n",
    "\n",
    "add(\"Extremes\", \"fe3fe864-1b39-11e9-20b8-1f96fa57382d\")\n",
    "jl.seval(\"using Extremes\")\n",
    "Extremes = jl.Extremes"
   ],
   "metadata": {
    "collapsed": false
   },
   "id": "a65f77ad5ac7626f",
   "execution_count": null
  },
  {
   "cell_type": "code",
   "outputs": [],
   "source": [],
   "metadata": {
    "collapsed": false
   },
   "id": "89591137e08fde56"
  }
 ],
 "metadata": {
  "kernelspec": {
   "name": "python3",
   "language": "python",
   "display_name": "Python 3 (ipykernel)"
  }
 },
 "nbformat": 4,
 "nbformat_minor": 5
}
