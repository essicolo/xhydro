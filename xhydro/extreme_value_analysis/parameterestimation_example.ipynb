{
 "cells": [
  {
   "cell_type": "code",
   "execution_count": 1,
   "metadata": {},
   "outputs": [
    {
     "name": "stdout",
     "output_type": "stream",
     "text": [
      "[juliapkg] Found dependencies: c:\\programdata\\anaconda3\\envs\\xhydro-dev\\lib\\site-packages\\juliapkg\\juliapkg.json\n",
      "[juliapkg] Found dependencies: c:\\programdata\\anaconda3\\envs\\xhydro-dev\\julia_env\\pyjuliapkg\\juliapkg.json\n",
      "[juliapkg] Found dependencies: c:\\programdata\\anaconda3\\envs\\xhydro-dev\\lib\\site-packages\\juliacall\\juliapkg.json\n",
      "[juliapkg] Locating Julia ~1.6.1, ~1.7, ~1.8, ~1.9, =1.10.0, ^1.10.3\n",
      "[juliapkg] Using Julia 1.9.4 at C:\\temp\\CONDA_HOME\\Julia-1.9.4\\bin\\julia.EXE\n",
      "[juliapkg] Using Julia project at C:\\ProgramData\\anaconda3\\envs\\xhydro-dev\\julia_env\n",
      "[juliapkg] Installing packages:\n",
      "           julia> import Pkg\n",
      "           julia> Pkg.Registry.update()\n",
      "           julia> Pkg.add([Pkg.PackageSpec(name=\"Extremes\", uuid=\"fe3fe864-1b39-11e9-20b8-1f96fa57382d\"), Pkg.PackageSpec(name=\"PythonCall\", uuid=\"6099a3de-0909-46bc-b1f4-468b9a2dfc0d\")])\n",
      "           julia> Pkg.resolve()\n",
      "           julia> Pkg.precompile()\n",
      "Detected IPython. Loading juliacall extension. See https://juliapy.github.io/PythonCall.jl/stable/compat/#IPython\n"
     ]
    }
   ],
   "source": [
    "from julia_import import Extremes, jl\n",
    "\n",
    "from xhydro.extreme_value_analysis.parameterestimation.bayesian.bayesian import *\n",
    "from xhydro.extreme_value_analysis.parameterestimation.maximumlikelihood.maximumlilekihood import *\n",
    "from xhydro.extreme_value_analysis.parameterestimation.probabilityweightedmoment.probabilityweightedmoment import *\n",
    "\n",
    "data = Extremes.dataset(\"portpirie\")"
   ]
  },
  {
   "cell_type": "code",
   "execution_count": 2,
   "metadata": {},
   "outputs": [
    {
     "name": "stderr",
     "output_type": "stream",
     "text": [
      "Progress: 100%|█████████████████████████████████████████| Time: 0:00:01\u001b[K\n"
     ]
    }
   ],
   "source": [
    "fm1 = gevfitbayes(data, \"SeaLevel\")"
   ]
  },
  {
   "cell_type": "code",
   "execution_count": 3,
   "metadata": {},
   "outputs": [
    {
     "name": "stderr",
     "output_type": "stream",
     "text": [
      "Progress: 100%|█████████████████████████████████████████| Time: 0:00:00\u001b[K\n"
     ]
    }
   ],
   "source": [
    "fm2 = gumbelfitbayes(data, \"SeaLevel\")"
   ]
  },
  {
   "cell_type": "code",
   "execution_count": 4,
   "metadata": {},
   "outputs": [
    {
     "name": "stderr",
     "output_type": "stream",
     "text": [
      "Progress: 100%|█████████████████████████████████████████| Time: 0:00:00\u001b[K\n"
     ]
    }
   ],
   "source": [
    "fm3 = gpfitbayes(data, \"SeaLevel\")"
   ]
  },
  {
   "cell_type": "code",
   "execution_count": 5,
   "metadata": {},
   "outputs": [
    {
     "name": "stdout",
     "output_type": "stream",
     "text": [
      "The history saving thread hit an unexpected error (OperationalError('database is locked')).History will not be written to the database.\n"
     ]
    }
   ],
   "source": [
    "fm4 = gevfit(data, \"SeaLevel\")"
   ]
  },
  {
   "cell_type": "code",
   "execution_count": 6,
   "metadata": {},
   "outputs": [],
   "source": [
    "fm5 = gumbelfit(data, \"SeaLevel\")"
   ]
  },
  {
   "cell_type": "code",
   "execution_count": 7,
   "metadata": {},
   "outputs": [],
   "source": [
    "fm6 = gpfit(data, \"SeaLevel\")"
   ]
  },
  {
   "cell_type": "code",
   "execution_count": 8,
   "metadata": {},
   "outputs": [],
   "source": [
    "fm7 = gevfitpwm(data, \"SeaLevel\")"
   ]
  },
  {
   "cell_type": "code",
   "execution_count": 9,
   "metadata": {},
   "outputs": [],
   "source": [
    "fm8 = gumbelfitpwm(data, \"SeaLevel\")"
   ]
  },
  {
   "cell_type": "code",
   "execution_count": 10,
   "metadata": {},
   "outputs": [],
   "source": [
    "fm9 = gpfitpwm(data, \"SeaLevel\")"
   ]
  }
 ],
 "metadata": {
  "language_info": {
   "codemirror_mode": {
    "name": "ipython",
    "version": 3
   },
   "file_extension": ".py",
   "mimetype": "text/x-python",
   "name": "python",
   "nbconvert_exporter": "python",
   "pygments_lexer": "ipython3",
   "version": "3.12.3"
  }
 },
 "nbformat": 4,
 "nbformat_minor": 2
}
