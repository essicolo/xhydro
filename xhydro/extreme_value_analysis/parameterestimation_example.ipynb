{
 "cells": [
  {
   "cell_type": "code",
   "execution_count": null,
   "metadata": {},
   "outputs": [],
   "source": [
    "%load_ext autoreload\n",
    "%autoreload 2\n",
    "%reload_ext autoreload\n",
    "\n",
    "from parameterestimation.maximumlikelihood import *\n",
    "from parameterestimation.bayesian import *\n",
    "from parameterestimation.probabilityweightedmoment import *\n",
    "from structures.conversions import *"
   ]
  },
  {
   "cell_type": "code",
   "execution_count": null,
   "metadata": {},
   "outputs": [],
   "source": [
    "from julia_import import Extremes\n",
    "from structures.conversions import jl_dataframe_to_pd_dataframe\n",
    "\n",
    "\n",
    "data = Extremes.dataset(\"fremantle\")\n",
    "df = jl_dataframe_to_pd_dataframe(data)\n",
    "y = df.iloc[:, 1].tolist() # SeaLevel\n",
    "initialvalues = [4.0, -2.0, 0.0]\n",
    "print(y)\n"
   ]
  },
  {
   "cell_type": "markdown",
   "metadata": {},
   "source": [
    "# Maximum likelihood"
   ]
  },
  {
   "cell_type": "markdown",
   "metadata": {},
   "source": [
    "### GEV"
   ]
  },
  {
   "cell_type": "code",
   "execution_count": null,
   "metadata": {},
   "outputs": [],
   "source": [
    "fm1 = gevfit_1(y)\n",
    "fm1.theta\n"
   ]
  },
  {
   "cell_type": "code",
   "execution_count": null,
   "metadata": {},
   "outputs": [],
   "source": [
    "#TODO: VALUE_CHECK\n",
    "# fm2 = gevfit_2(y, initialvalues)\n",
    "# fm2"
   ]
  },
  {
   "cell_type": "code",
   "execution_count": null,
   "metadata": {},
   "outputs": [],
   "source": [
    "fm3 = gevfit_3(df, \"SeaLevel\", locationcovid=[\"Year\", \"SOI\"], logscalecovid=[\"Year\", \"SOI\"])\n",
    "fm3.theta"
   ]
  },
  {
   "cell_type": "code",
   "execution_count": null,
   "metadata": {},
   "outputs": [],
   "source": [
    "#TODO: VALUE_CHECK\n",
    "# fm4 = gevfit_4(df, \"SeaLevel\", initialvalues)\n",
    "# fm4"
   ]
  },
  {
   "cell_type": "code",
   "execution_count": null,
   "metadata": {},
   "outputs": [],
   "source": [
    "#TODO: VALUE_CHECK\n",
    "# fm5 = gevfit_5(fm1.model,initialvalues)\n",
    "# fm5"
   ]
  },
  {
   "cell_type": "markdown",
   "metadata": {},
   "source": [
    "### Gumbel"
   ]
  },
  {
   "cell_type": "code",
   "execution_count": null,
   "metadata": {},
   "outputs": [],
   "source": [
    "fm1 = gumbelfit_1(y)\n",
    "fm1.theta"
   ]
  },
  {
   "cell_type": "code",
   "execution_count": null,
   "metadata": {},
   "outputs": [],
   "source": [
    "#TODO: VALUE_CHECK\n",
    "# fm2 = gumbelfit_2(y, initialvalues)\n",
    "# fm2"
   ]
  },
  {
   "cell_type": "code",
   "execution_count": null,
   "metadata": {},
   "outputs": [],
   "source": [
    "fm3 = gumbelfit_3(df, \"SeaLevel\", locationcovid=[\"Year\", \"SOI\"], logscalecovid=[\"Year\", \"SOI\"])\n",
    "fm3 = gumbelfit_3(df, \"SeaLevel\")\n",
    "fm3.theta"
   ]
  },
  {
   "cell_type": "code",
   "execution_count": null,
   "metadata": {},
   "outputs": [],
   "source": [
    "#TODO: VALUE_CHECK\n",
    "# fm4 = gumbelfit_4(df, \"SeaLevel\", initialvalues, locationcovid=[\"Year\", \"SOI\"], logscalecovid=[\"Year\", \"SOI\"])\n",
    "# fm4 = gumbelfit_4(df, \"SeaLevel\", initialvalues)\n",
    "# fm4"
   ]
  },
  {
   "cell_type": "code",
   "execution_count": null,
   "metadata": {},
   "outputs": [],
   "source": [
    "#TODO: VALUE_CHECK\n",
    "# fm5 = gumbelfit_5(fm1.model,initialvalues)"
   ]
  },
  {
   "cell_type": "markdown",
   "metadata": {},
   "source": [
    "### Gp"
   ]
  },
  {
   "cell_type": "code",
   "execution_count": null,
   "metadata": {},
   "outputs": [],
   "source": [
    "print(y)\n",
    "fm1 = gpfit_1(y)\n",
    "fm1.theta"
   ]
  },
  {
   "cell_type": "code",
   "execution_count": null,
   "metadata": {},
   "outputs": [],
   "source": [
    "#TODO: VALUE_CHECK\n",
    "# fm2 = gpfit_2(y, initialvalues)\n",
    "# fm2"
   ]
  },
  {
   "cell_type": "code",
   "execution_count": null,
   "metadata": {},
   "outputs": [],
   "source": [
    "fm3 = gpfit_3(df, \"SeaLevel\", logscalecovid=[\"SOI\"])\n",
    "fm3.theta"
   ]
  },
  {
   "cell_type": "code",
   "execution_count": null,
   "metadata": {},
   "outputs": [],
   "source": [
    "#TODO: VALUE_CHECK\n",
    "# fm4 = gpfit_4(df, \"SeaLevel\", initialvalues)\n",
    "# fm4"
   ]
  },
  {
   "cell_type": "code",
   "execution_count": null,
   "metadata": {},
   "outputs": [],
   "source": [
    "#TODO: VALUE_CHECK\n",
    "# fm5 = gpfit_5(fm1.model,[initialvalues[0], initialvalues[1]])"
   ]
  },
  {
   "cell_type": "markdown",
   "metadata": {},
   "source": [
    "# Bayesian"
   ]
  },
  {
   "cell_type": "markdown",
   "metadata": {},
   "source": [
    "### GEV"
   ]
  },
  {
   "cell_type": "code",
   "execution_count": null,
   "metadata": {},
   "outputs": [],
   "source": [
    "fm1 = gevfitbayes_1(y, niter = 3500, warmup = 500)\n",
    "jl_fm = py_bayesian_aev_to_jl_aev(fm1)\n",
    "param_list = [(interval[0] + interval[1])/2 for interval in jl_vector_to_py_list(jl.cint(jl_fm))]\n",
    "params = np.asarray(param_list)\n",
    "params"
   ]
  },
  {
   "cell_type": "code",
   "execution_count": null,
   "metadata": {},
   "outputs": [],
   "source": [
    "fm2 = gevfitbayes_2(df, \"SeaLevel\", locationcovid=[\"Year\", \"SOI\"])\n",
    "fm2"
   ]
  },
  {
   "cell_type": "code",
   "execution_count": null,
   "metadata": {},
   "outputs": [],
   "source": [
    "fm3 = gevfitbayes_3(fm1.model, warmup = 500)\n",
    "fm3"
   ]
  },
  {
   "cell_type": "markdown",
   "metadata": {},
   "source": [
    "### Gumbel\n"
   ]
  },
  {
   "cell_type": "code",
   "execution_count": null,
   "metadata": {},
   "outputs": [],
   "source": [
    "fm1 = gumbelfitbayes_1(y)\n",
    "fm1"
   ]
  },
  {
   "cell_type": "code",
   "execution_count": null,
   "metadata": {},
   "outputs": [],
   "source": [
    "fm2 = gumbelfitbayes_2(df, \"SeaLevel\", locationcovid=[\"Year\", \"SOI\"])\n",
    "fm2"
   ]
  },
  {
   "cell_type": "code",
   "execution_count": null,
   "metadata": {},
   "outputs": [],
   "source": [
    "fm3 = gumbelfitbayes_3(fm1.model, warmup = 500)\n",
    "fm3"
   ]
  },
  {
   "cell_type": "markdown",
   "metadata": {},
   "source": [
    "### GP"
   ]
  },
  {
   "cell_type": "code",
   "execution_count": null,
   "metadata": {},
   "outputs": [],
   "source": [
    "#TODO: VALUE_CHECK\n",
    "fm1 = gpfitbayes_1(y)\n",
    "fm1"
   ]
  },
  {
   "cell_type": "code",
   "execution_count": null,
   "metadata": {},
   "outputs": [],
   "source": [
    "#TODO: VALUE_CHECK\n",
    "# fm2 = gpfitbayes_2(df, \"SeaLevel\")\n",
    "# fm2"
   ]
  },
  {
   "cell_type": "code",
   "execution_count": null,
   "metadata": {},
   "outputs": [],
   "source": [
    "#TODO: VALUE_CHECK\n",
    "# fm3 = gpfitbayes_3(fm1.model, niter = 750)"
   ]
  },
  {
   "cell_type": "markdown",
   "metadata": {},
   "source": [
    "# PWM"
   ]
  },
  {
   "cell_type": "markdown",
   "metadata": {},
   "source": [
    "### GEV"
   ]
  },
  {
   "cell_type": "code",
   "execution_count": null,
   "metadata": {},
   "outputs": [],
   "source": [
    "fm1 = gevfitpwm_1(y)\n",
    "fm1.theta"
   ]
  },
  {
   "cell_type": "code",
   "execution_count": null,
   "metadata": {},
   "outputs": [],
   "source": [
    "fm2 = gevfitpwm_2(df, \"SeaLevel\")\n",
    "fm2.theta"
   ]
  },
  {
   "cell_type": "code",
   "execution_count": null,
   "metadata": {},
   "outputs": [],
   "source": [
    "fm3 = gevfitpwm_3(fm1.model)\n",
    "fm3.theta"
   ]
  },
  {
   "cell_type": "markdown",
   "metadata": {},
   "source": [
    "### Gumbel"
   ]
  },
  {
   "cell_type": "code",
   "execution_count": null,
   "metadata": {},
   "outputs": [],
   "source": [
    "fm1 = gumbelfitpwm_1(y)\n",
    "fm1.theta"
   ]
  },
  {
   "cell_type": "code",
   "execution_count": null,
   "metadata": {},
   "outputs": [],
   "source": [
    "fm2 = gumbelfitpwm_2(df, \"SeaLevel\")\n",
    "fm2.theta"
   ]
  },
  {
   "cell_type": "code",
   "execution_count": null,
   "metadata": {},
   "outputs": [],
   "source": [
    "fm3 = gumbelfitpwm_3(fm1.model)\n",
    "fm3.theta"
   ]
  },
  {
   "cell_type": "markdown",
   "metadata": {},
   "source": [
    "### Gp"
   ]
  },
  {
   "cell_type": "code",
   "execution_count": null,
   "metadata": {},
   "outputs": [],
   "source": [
    "fm1 = gpfitpwm_1(y)\n",
    "fm1.theta"
   ]
  },
  {
   "cell_type": "code",
   "execution_count": null,
   "metadata": {},
   "outputs": [],
   "source": [
    "fm2 = gpfitpwm_2(df, \"SeaLevel\")\n",
    "fm2.theta"
   ]
  },
  {
   "cell_type": "code",
   "execution_count": null,
   "metadata": {},
   "outputs": [],
   "source": [
    "fm3 = gpfitpwm_3(fm1.model)\n",
    "fm3.theta"
   ]
  }
 ],
 "metadata": {
  "kernelspec": {
   "display_name": "xhydro-dev",
   "language": "python",
   "name": "python3"
  },
  "language_info": {
   "codemirror_mode": {
    "name": "ipython",
    "version": 3
   },
   "file_extension": ".py",
   "mimetype": "text/x-python",
   "name": "python",
   "nbconvert_exporter": "python",
   "pygments_lexer": "ipython3",
   "version": "3.12.3"
  }
 },
 "nbformat": 4,
 "nbformat_minor": 2
}
