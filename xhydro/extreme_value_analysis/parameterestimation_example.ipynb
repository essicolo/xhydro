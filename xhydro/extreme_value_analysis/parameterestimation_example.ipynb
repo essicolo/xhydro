{
 "cells": [
  {
   "cell_type": "code",
   "execution_count": null,
   "metadata": {},
   "outputs": [],
   "source": [
    "%load_ext autoreload\n",
    "%autoreload 2\n",
    "%reload_ext autoreload\n",
    "\n",
    "from julia_import import Extremes, jl\n",
    "\n",
    "from xhydro.extreme_value_analysis.parameterestimation.bayesian import *\n",
    "from xhydro.extreme_value_analysis.parameterestimation.maximumlikelihood import *\n",
    "from xhydro.extreme_value_analysis.parameterestimation.probabilityweightedmoment import *\n",
    "from xhydro.extreme_value_analysis.structures.dataitem import Variable\n",
    "from xhydro.extreme_value_analysis.structures.data import *\n",
    "import random"
   ]
  },
  {
   "cell_type": "code",
   "execution_count": null,
   "metadata": {},
   "outputs": [],
   "source": [
    "data = Extremes.dataset(\"portpirie\")\n",
    "df = jl_dataframe_to_pd_dataframe(data)\n",
    "y = df.iloc[:, 1].tolist() # SeaLevel\n",
    "initialvalues = [4.0, -2.0, 0.0]\n"
   ]
  },
  {
   "cell_type": "code",
   "execution_count": null,
   "metadata": {},
   "outputs": [],
   "source": [
    "# _gevfit_1\n",
    "fm1 = gevfit(y = y)\n",
    "print(type(fm1))"
   ]
  },
  {
   "cell_type": "code",
   "execution_count": null,
   "metadata": {},
   "outputs": [],
   "source": [
    "# _gevfit_2\n",
    "fm2 = gevfit(y=y, initialvalues=initialvalues)\n",
    "fm2"
   ]
  },
  {
   "cell_type": "code",
   "execution_count": null,
   "metadata": {},
   "outputs": [],
   "source": [
    "# _gevfit_3\n",
    "fm3 = gevfit(df = df, datacol = \"SeaLevel\")\n",
    "fm3"
   ]
  },
  {
   "cell_type": "code",
   "execution_count": null,
   "metadata": {},
   "outputs": [],
   "source": [
    "#_gevfit_4\n",
    "fm4 = gevfit(df = df, datacol = \"SeaLevel\", initialvalues = initialvalues)\n",
    "fm4"
   ]
  }
 ],
 "metadata": {
  "kernelspec": {
   "display_name": "xhydro-dev",
   "language": "python",
   "name": "python3"
  },
  "language_info": {
   "codemirror_mode": {
    "name": "ipython",
    "version": 3
   },
   "file_extension": ".py",
   "mimetype": "text/x-python",
   "name": "python",
   "nbconvert_exporter": "python",
   "pygments_lexer": "ipython3",
   "version": "3.12.3"
  }
 },
 "nbformat": 4,
 "nbformat_minor": 2
}
