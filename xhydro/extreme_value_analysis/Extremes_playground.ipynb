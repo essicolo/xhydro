{
 "cells": [
  {
   "cell_type": "code",
   "execution_count": null,
   "metadata": {},
   "outputs": [],
   "source": [
    "using Extremes"
   ]
  },
  {
   "cell_type": "code",
   "execution_count": null,
   "metadata": {},
   "outputs": [],
   "source": [
    "data = Extremes.dataset(\"wooster\")\n",
    "first(data, 5)"
   ]
  },
  {
   "cell_type": "code",
   "execution_count": null,
   "metadata": {},
   "outputs": [],
   "source": [
    "for col in names(data)\n",
    "    println(col)\n",
    "end\n",
    "\n",
    "for col in eachcol(data)\n",
    "    println(col)\n",
    "end"
   ]
  },
  {
   "cell_type": "code",
   "execution_count": null,
   "metadata": {},
   "outputs": [],
   "source": [
    "cluster = getcluster(df[:,:Temperature], -10.0, runlength=4)"
   ]
  },
  {
   "cell_type": "code",
   "execution_count": null,
   "metadata": {},
   "outputs": [],
   "source": [
    "u₁ = -10\n",
    "u₂ = -15\n",
    "cluster = getcluster(df[:,:Temperature], -10, -15)"
   ]
  },
  {
   "cell_type": "code",
   "execution_count": null,
   "metadata": {},
   "outputs": [],
   "source": [
    "y = [69, 420]\n",
    "locationcov = [Variable(\"a\", [1,2]), Variable(\"b\", [3,1])]\n",
    "logscalecov = [Variable(\"c\", [0, 25000]), Variable(\"d\", [0, 35000])]\n",
    "shapecov = [Variable(\"e\", [7,8]), Variable(\"f\", [9,7])]\n",
    "gevfit(y, locationcov=locationcov, logscalecov=logscalecov, shapecov=shapecov)"
   ]
  },
  {
   "cell_type": "code",
   "execution_count": null,
   "metadata": {},
   "outputs": [],
   "source": []
  },
  {
   "cell_type": "code",
   "execution_count": null,
   "metadata": {},
   "outputs": [],
   "source": []
  }
 ],
 "metadata": {
  "kernelspec": {
   "display_name": "Julia 1.9.4",
   "language": "julia",
   "name": "julia-1.9"
  },
  "language_info": {
   "file_extension": ".jl",
   "mimetype": "application/julia",
   "name": "julia",
   "version": "1.9.4"
  }
 },
 "nbformat": 4,
 "nbformat_minor": 2
}
