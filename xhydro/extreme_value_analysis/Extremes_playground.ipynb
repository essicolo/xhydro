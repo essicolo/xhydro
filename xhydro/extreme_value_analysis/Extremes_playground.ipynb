{
 "cells": [
  {
   "cell_type": "code",
   "execution_count": null,
   "metadata": {},
   "outputs": [],
   "source": [
    "using Extremes"
   ]
  },
  {
   "cell_type": "code",
   "outputs": [],
   "source": [
    "data = Extremes.dataset(\"fremantle\")\n",
    "data"
   ],
   "metadata": {
    "collapsed": false
   },
   "execution_count": null
  },
  {
   "cell_type": "code",
   "outputs": [],
   "source": [
    "fm = gevfit(data, :SeaLevel, locationcovid = [:Year, :SOI])\n",
    "fm"
   ],
   "metadata": {
    "collapsed": false
   },
   "execution_count": null
  },
  {
   "cell_type": "code",
   "outputs": [],
   "source": [
    "params(fm)"
   ],
   "metadata": {
    "collapsed": false
   },
   "execution_count": null
  }
 ],
 "metadata": {
  "kernelspec": {
   "name": "julia-1.9",
   "language": "julia",
   "display_name": "Julia 1.9.4"
  },
  "language_info": {
   "file_extension": ".jl",
   "mimetype": "application/julia",
   "name": "julia",
   "version": "1.10.3"
  }
 },
 "nbformat": 4,
 "nbformat_minor": 2
}
