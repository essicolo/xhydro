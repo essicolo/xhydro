{
 "cells": [
  {
   "cell_type": "markdown",
   "id": "0",
   "metadata": {},
   "source": [
    "# *** Notebook stricly used for debugging purposes ***"
   ]
  },
  {
   "cell_type": "code",
   "execution_count": 1,
   "id": "1",
   "metadata": {},
   "outputs": [],
   "source": [
    "import xhydro"
   ]
  },
  {
   "cell_type": "code",
   "execution_count": 2,
   "id": "2",
   "metadata": {},
   "outputs": [
    {
     "name": "stdout",
     "output_type": "stream",
     "text": [
      "[juliapkg] Found dependencies: c:\\programdata\\anaconda3\\envs\\xhydro-dev-4\\lib\\site-packages\\juliapkg\\juliapkg.json\n",
      "[juliapkg] Found dependencies: c:\\programdata\\anaconda3\\envs\\xhydro-dev-4\\julia_env\\pyjuliapkg\\juliapkg.json\n",
      "[juliapkg] Found dependencies: c:\\programdata\\anaconda3\\envs\\xhydro-dev-4\\lib\\site-packages\\juliacall\\juliapkg.json\n",
      "[juliapkg] Locating Julia ~1.6.1, ~1.7, ~1.8, ~1.9, =1.10.0, ^1.10.3\n",
      "[juliapkg] Using Julia 1.10.3 at C:\\Users\\HP\\AppData\\Local\\Programs\\Julia-1.10.3\\bin\\julia.EXE\n",
      "[juliapkg] Using Julia project at C:\\ProgramData\\anaconda3\\envs\\xhydro-dev-4\\julia_env\n",
      "[juliapkg] Installing packages:\n",
      "           julia> import Pkg\n",
      "           julia> Pkg.Registry.update()\n",
      "           julia> Pkg.add([Pkg.PackageSpec(name=\"Extremes\", uuid=\"fe3fe864-1b39-11e9-20b8-1f96fa57382d\"), Pkg.PackageSpec(name=\"DataFrames\", uuid=\"a93c6f00-e57d-5684-b7b6-d8193f3e46c0\"), Pkg.PackageSpec(name=\"PythonCall\", uuid=\"6099a3de-0909-46bc-b1f4-468b9a2dfc0d\")])\n",
      "           julia> Pkg.resolve()\n",
      "           julia> Pkg.precompile()\n",
      "Detected IPython. Loading juliacall extension. See https://juliapy.github.io/PythonCall.jl/stable/compat/#IPython\n"
     ]
    }
   ],
   "source": [
    "%load_ext autoreload\n",
    "%autoreload 2\n",
    "%reload_ext autoreload\n",
    "\n",
    "from xhydro.extreme_value_analysis.parameterestimation import *"
   ]
  },
  {
   "cell_type": "code",
   "execution_count": null,
   "id": "3",
   "metadata": {},
   "outputs": [],
   "source": [
    "y = [\n",
    "    31.4,\n",
    "    38.8,\n",
    "    63.78,\n",
    "    54.82,\n",
    "    123.2,\n",
    "    108.2,\n",
    "    108.1,\n",
    "    98.52,\n",
    "    42.24,\n",
    "    33.45,\n",
    "    60.0,\n",
    "    84.23,\n",
    "    48.07,\n",
    "    77.71,\n",
    "    38.37,\n",
    "    42.02,\n",
    "    46.0,\n",
    "]\n",
    "params = gevfit(y)\n",
    "params"
   ]
  },
  {
   "cell_type": "code",
   "execution_count": null,
   "id": "4",
   "metadata": {},
   "outputs": [],
   "source": [
    "GITHUB_URL = \"https://github.com/hydrologie/xhydro-testdata\"\n",
    "BRANCH_OR_COMMIT_HASH = \"extreme_value_analysis\"\n",
    "FOLDER = \"extreme_value_analysis\"\n",
    "\n",
    "GEV_STATIONARY = \"gev_stationary\"\n",
    "GEV_NONSTATIONARY = \"gev_nonstationary\"\n",
    "GP_STATIONARY = \"gp_stationary\"\n",
    "GP_NONSTATIONARY = \"gp_nonstationary\"\n",
    "\n",
    "FILE_URLS = {\n",
    "    GEV_STATIONARY: f\"{GITHUB_URL}/raw/{BRANCH_OR_COMMIT_HASH}/data/{FOLDER}/{GEV_STATIONARY}.csv\",\n",
    "    GEV_NONSTATIONARY: f\"{GITHUB_URL}/raw/{BRANCH_OR_COMMIT_HASH}/data/{FOLDER}/{GEV_NONSTATIONARY}.csv\",\n",
    "    GP_STATIONARY: f\"{GITHUB_URL}/raw/{BRANCH_OR_COMMIT_HASH}/data/{FOLDER}/{GP_STATIONARY}.csv\",\n",
    "    GP_NONSTATIONARY: f\"{GITHUB_URL}/raw/{BRANCH_OR_COMMIT_HASH}/data/{FOLDER}/{GP_NONSTATIONARY}.csv\",\n",
    "}"
   ]
  },
  {
   "cell_type": "code",
   "execution_count": null,
   "id": "5",
   "metadata": {},
   "outputs": [],
   "source": [
    "import pandas as pd\n",
    "\n",
    "csv_url = FILE_URLS[GEV_STATIONARY]\n",
    "\n",
    "# Read the CSV file from the URL\n",
    "df = pd.read_csv(csv_url)\n",
    "y = df[\"y\"].values\n",
    "y"
   ]
  }
 ],
 "metadata": {
  "language_info": {
   "codemirror_mode": {
    "name": "ipython",
    "version": 3
   },
   "file_extension": ".py",
   "mimetype": "text/x-python",
   "name": "python",
   "nbconvert_exporter": "python",
   "pygments_lexer": "ipython3",
   "version": "3.12.3"
  }
 },
 "nbformat": 4,
 "nbformat_minor": 5
}
