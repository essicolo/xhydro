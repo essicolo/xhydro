{
 "cells": [
  {
   "cell_type": "markdown",
   "id": "0",
   "metadata": {},
   "source": [
    "# *** Notebook stricly used for debugging purposes ***"
   ]
  },
  {
   "cell_type": "code",
   "execution_count": 38,
   "id": "1",
   "metadata": {},
   "outputs": [],
   "source": [
    "# %load_ext autoreload\n",
    "# %autoreload 2\n",
    "# %reload_ext autoreload\n",
    "from julia_import import Extremes\n",
    "from structures.conversions import py_list_to_jl_vector, py_variable_to_jl_variable\n",
    "from structures.dataitem import Variable\n",
    "\n",
    "from xhydro.extreme_value_analysis.structures.conversions import (\n",
    "    jl_vector_tuple_to_py_list,\n",
    ")\n",
    "from xhydro.extreme_value_analysis.structures.util import jl_variable_fit_parameters"
   ]
  },
  {
   "cell_type": "code",
   "execution_count": 39,
   "id": "2",
   "metadata": {},
   "outputs": [],
   "source": [
    "def gevfit_debug(\n",
    "    y: list[float],\n",
    "    locationcov: list[Variable] = [],\n",
    "    logscalecov: list[Variable] = [],\n",
    "    shapecov: list[Variable] = [],\n",
    "):\n",
    "    jl_y = py_list_to_jl_vector(y)\n",
    "    jl_locationcov, jl_logscalecov, jl_shapecov = jl_variable_fit_parameters(\n",
    "        [locationcov, logscalecov, shapecov]\n",
    "    )\n",
    "    jl_fm = Extremes.gevfit(\n",
    "        jl_y,\n",
    "        locationcov=jl_locationcov,\n",
    "        logscalecov=jl_logscalecov,\n",
    "        shapecov=jl_shapecov,\n",
    "    )\n",
    "    params = jl_vector_tuple_to_py_list(Extremes.params(jl_fm))\n",
    "    return {\"params\": params, \"jl_fm\": jl_fm}"
   ]
  },
  {
   "cell_type": "code",
   "execution_count": 40,
   "id": "3",
   "metadata": {},
   "outputs": [],
   "source": [
    "y = [\n",
    "    31.4,\n",
    "    38.8,\n",
    "    63.78,\n",
    "    54.82,\n",
    "    123.2,\n",
    "    108.2,\n",
    "    108.1,\n",
    "    98.52,\n",
    "    42.24,\n",
    "    33.45,\n",
    "    60.0,\n",
    "    84.23,\n",
    "    48.07,\n",
    "    77.71,\n",
    "    38.37,\n",
    "    42.02,\n",
    "    46.0,\n",
    "]\n",
    "# jl_y = py_list_to_jl_vector(y)\n",
    "# cool_variable = Variable(\"cool_variable\", y)\n",
    "# jl_cool_variable = py_variable_to_jl_variable(cool_variable)\n",
    "# blockmaxima = Extremes.seval('BlockMaxima{Distributions.GeneralizedExtremeValue}')(jl_cool_variable, None, None, None)"
   ]
  },
  {
   "cell_type": "code",
   "execution_count": 41,
   "id": "4",
   "metadata": {},
   "outputs": [
    {
     "data": {
      "text/plain": [
       "[46.987584008046504, 16.492506293527303, 0.445392084357781]"
      ]
     },
     "execution_count": 41,
     "metadata": {},
     "output_type": "execute_result"
    }
   ],
   "source": [
    "fit = gevfit_debug(y)\n",
    "fit[\"params\"]"
   ]
  },
  {
   "cell_type": "code",
   "execution_count": 42,
   "id": "5",
   "metadata": {},
   "outputs": [
    {
     "data": {
      "text/plain": [
       "MaximumLikelihoodAbstractExtremeValueModel\n",
       "model :\n",
       "\tBlockMaxima{GeneralizedExtremeValue}\n",
       "\tdata :\t\tVector{Real}[17]\n",
       "\tlocation :\tμ ~ 1\n",
       "\tlogscale :\tϕ ~ 1\n",
       "\tshape :\t\tξ ~ 1\n",
       "\n",
       "θ̂  :\t[46.987584008046504, 2.8029061137141675, 0.445392084357781]\n"
      ]
     },
     "execution_count": 42,
     "metadata": {},
     "output_type": "execute_result"
    }
   ],
   "source": [
    "fit[\"jl_fm\"]"
   ]
  },
  {
   "cell_type": "code",
   "execution_count": 43,
   "id": "6",
   "metadata": {},
   "outputs": [
    {
     "data": {
      "text/plain": [
       "1-element Vector{Float64}:\n",
       " 110.84551168657379"
      ]
     },
     "execution_count": 43,
     "metadata": {},
     "output_type": "execute_result"
    }
   ],
   "source": [
    "r = Extremes.returnlevel(fit[\"jl_fm\"], 10)\n",
    "r.value"
   ]
  },
  {
   "cell_type": "code",
   "execution_count": 58,
   "id": "7",
   "metadata": {},
   "outputs": [
    {
     "data": {
      "text/plain": [
       "array([0.50708462, 0.86535667, 0.57872479, ..., 2.84709803, 3.42667611,\n",
       "       0.0619862 ])"
      ]
     },
     "execution_count": 58,
     "metadata": {},
     "output_type": "execute_result"
    }
   ],
   "source": [
    "import pandas as pd\n",
    "import pooch\n",
    "\n",
    "# Dataset taken from tests in Extremes.jl\n",
    "GITHUB_URL = \"https://github.com/hydrologie/xhydro-testdata\"\n",
    "BRANCH_OR_COMMIT_HASH = \"extreme_value_analysis\"\n",
    "\n",
    "genextreme_data = pooch.retrieve(\n",
    "    url=f\"{GITHUB_URL}/raw/{BRANCH_OR_COMMIT_HASH}/data/extreme_value_analysis/genextreme.zip\",\n",
    "    known_hash=\"md5:cc2ff7c93949673a6acf00c7c2fac20b\",\n",
    "    processor=pooch.Unzip(),\n",
    ")\n",
    "GEV_STATIONARY = pd.read_csv(genextreme_data[0])\n",
    "GEV_NONSTATIONARY = pd.read_csv(genextreme_data[1])\n",
    "\n",
    "\n",
    "genpareto_data = pooch.retrieve(\n",
    "    url=f\"{GITHUB_URL}/raw/{BRANCH_OR_COMMIT_HASH}/data/extreme_value_analysis/genpareto.zip\",\n",
    "    known_hash=\"md5:ecb74164db4bbfeabfc5e340b11e7ae8\",\n",
    "    processor=pooch.Unzip(),\n",
    ")\n",
    "GP_STATIONARY = pd.read_csv(genpareto_data[0])\n",
    "GP_NONSTATIONARY = pd.read_csv(genpareto_data[1])\n",
    "\n",
    "\n",
    "y = GP_NONSTATIONARY[\"y\"].values\n",
    "y"
   ]
  }
 ],
 "metadata": {
  "language_info": {
   "codemirror_mode": {
    "name": "ipython",
    "version": 3
   },
   "file_extension": ".py",
   "mimetype": "text/x-python",
   "name": "python",
   "nbconvert_exporter": "python",
   "pygments_lexer": "ipython3",
   "version": "3.12.3"
  }
 },
 "nbformat": 4,
 "nbformat_minor": 5
}
